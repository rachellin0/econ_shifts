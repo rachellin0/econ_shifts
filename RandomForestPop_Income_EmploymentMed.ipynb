{
  "nbformat": 4,
  "nbformat_minor": 0,
  "metadata": {
    "colab": {
      "provenance": []
    },
    "kernelspec": {
      "name": "python3",
      "display_name": "Python 3"
    },
    "language_info": {
      "name": "python"
    }
  },
  "cells": [
    {
      "cell_type": "code",
      "source": [
        "from google.colab import drive\n",
        "drive.mount('/content/drive')"
      ],
      "metadata": {
        "colab": {
          "base_uri": "https://localhost:8080/"
        },
        "id": "oA7be1_g8l4o",
        "outputId": "51b61532-74e9-46f4-b87e-0e1fea9fcc0e"
      },
      "execution_count": null,
      "outputs": [
        {
          "output_type": "stream",
          "name": "stdout",
          "text": [
            "Mounted at /content/drive\n"
          ]
        }
      ]
    },
    {
      "cell_type": "code",
      "source": [
        "# for column in df1.columns:\n",
        "#   if column != 'MSA' and column != 'PopChange':\n",
        "#     df1[column] = df1[column]>=df1[column].median()"
      ],
      "metadata": {
        "id": "hMLDsPbeRo3v"
      },
      "execution_count": null,
      "outputs": []
    },
    {
      "cell_type": "code",
      "source": [
        "import numpy as np\n",
        "import pandas as pd\n",
        "from sklearn import svm, metrics\n",
        "import matplotlib.pyplot as plt\n",
        "from sklearn.model_selection import train_test_split\n",
        "from sklearn.ensemble import RandomForestRegressor\n",
        "from sklearn.ensemble import RandomForestClassifier\n",
        "from sklearn.model_selection import GridSearchCV"
      ],
      "metadata": {
        "id": "rLy2t0HJ8m9g"
      },
      "execution_count": null,
      "outputs": []
    },
    {
      "cell_type": "code",
      "source": [
        "#Load Data\n",
        "msa_data = pd.read_csv('/content/drive/MyDrive/MLC Final Project/4_MSA_LQ.csv')\n",
        "pop_data = pd.read_csv('/content/drive/MyDrive/MLC Final Project/1_PopChange_10_16.csv')\n",
        "income_data = pd.read_csv('/content/drive/MyDrive/MLC Final Project/2_Income_Incr_10_16.csv')\n",
        "emp_data = pd.read_csv('/content/drive/MyDrive/MLC Final Project/3_Emp_Incr_10_16.csv')"
      ],
      "metadata": {
        "id": "NZc0WmKG9lqI"
      },
      "execution_count": null,
      "outputs": []
    },
    {
      "cell_type": "code",
      "source": [
        "#RFC with to MSA classification, and 5 category classifications"
      ],
      "metadata": {
        "id": "-9GUy2QpLWie"
      },
      "execution_count": null,
      "outputs": []
    },
    {
      "cell_type": "code",
      "source": [
        "pop_data['PopCategory'] = -100\n",
        "for i in range(len(pop_data)):\n",
        "  if ((pop_data['PopChange'][i] <= 0.5) & (pop_data['PopChange'][i] > -0.5)):\n",
        "    pop_data['PopCategory'][i] = 0\n",
        "  elif ((pop_data['PopChange'][i] > 0.5) & (pop_data['PopChange'][i] <= 1)):\n",
        "    pop_data['PopCategory'][i] = 1\n",
        "  elif (pop_data['PopChange'][i] > 1):\n",
        "    pop_data['PopCategory'][i] = 2\n",
        "  elif ((pop_data['PopChange'][i] < -0.5) & (pop_data['PopChange'][i] >= -1)):\n",
        "    pop_data['PopCategory'][i] = -1\n",
        "  elif (pop_data['PopChange'][i] < -1):\n",
        "    pop_data['PopCategory'][i] = -2"
      ],
      "metadata": {
        "colab": {
          "base_uri": "https://localhost:8080/"
        },
        "id": "crhkmtDCEn8Q",
        "outputId": "76b971df-1e48-44e1-a505-17b2139a4859"
      },
      "execution_count": null,
      "outputs": [
        {
          "output_type": "stream",
          "name": "stderr",
          "text": [
            "/usr/local/lib/python3.7/dist-packages/ipykernel_launcher.py:6: SettingWithCopyWarning: \n",
            "A value is trying to be set on a copy of a slice from a DataFrame\n",
            "\n",
            "See the caveats in the documentation: https://pandas.pydata.org/pandas-docs/stable/user_guide/indexing.html#returning-a-view-versus-a-copy\n",
            "  \n",
            "/usr/local/lib/python3.7/dist-packages/ipykernel_launcher.py:4: SettingWithCopyWarning: \n",
            "A value is trying to be set on a copy of a slice from a DataFrame\n",
            "\n",
            "See the caveats in the documentation: https://pandas.pydata.org/pandas-docs/stable/user_guide/indexing.html#returning-a-view-versus-a-copy\n",
            "  after removing the cwd from sys.path.\n",
            "/usr/local/lib/python3.7/dist-packages/ipykernel_launcher.py:10: SettingWithCopyWarning: \n",
            "A value is trying to be set on a copy of a slice from a DataFrame\n",
            "\n",
            "See the caveats in the documentation: https://pandas.pydata.org/pandas-docs/stable/user_guide/indexing.html#returning-a-view-versus-a-copy\n",
            "  # Remove the CWD from sys.path while we load stuff.\n",
            "/usr/local/lib/python3.7/dist-packages/ipykernel_launcher.py:8: SettingWithCopyWarning: \n",
            "A value is trying to be set on a copy of a slice from a DataFrame\n",
            "\n",
            "See the caveats in the documentation: https://pandas.pydata.org/pandas-docs/stable/user_guide/indexing.html#returning-a-view-versus-a-copy\n",
            "  \n",
            "/usr/local/lib/python3.7/dist-packages/ipykernel_launcher.py:12: SettingWithCopyWarning: \n",
            "A value is trying to be set on a copy of a slice from a DataFrame\n",
            "\n",
            "See the caveats in the documentation: https://pandas.pydata.org/pandas-docs/stable/user_guide/indexing.html#returning-a-view-versus-a-copy\n",
            "  if sys.path[0] == '':\n"
          ]
        }
      ]
    },
    {
      "cell_type": "code",
      "source": [
        "income_data['incomeCategory'] = -100\n",
        "for i in range(len(income_data)):\n",
        "  if ((income_data['IncomeChange'][i] <= 0.5) & (income_data['IncomeChange'][i] > -0.5)):\n",
        "    income_data['incomeCategory'][i] = 0\n",
        "  elif ((income_data['IncomeChange'][i] > 0.5) & (income_data['IncomeChange'][i] <= 1)):\n",
        "    income_data['incomeCategory'][i] = 1\n",
        "  elif (income_data['IncomeChange'][i] > 1):\n",
        "    income_data['incomeCategory'][i] = 2\n",
        "  elif ((income_data['IncomeChange'][i] < -0.5) & (income_data['IncomeChange'][i] >= -1)):\n",
        "    income_data['incomeCategory'][i] = -1\n",
        "  elif (income_data['IncomeChange'][i] < -1):\n",
        "    income_data['incomeCategory'][i] = -2"
      ],
      "metadata": {
        "colab": {
          "base_uri": "https://localhost:8080/"
        },
        "id": "AiI-eUF4EsEj",
        "outputId": "e66751e8-0dfd-4d9b-a88a-0f33619bda2c"
      },
      "execution_count": null,
      "outputs": [
        {
          "output_type": "stream",
          "name": "stderr",
          "text": [
            "/usr/local/lib/python3.7/dist-packages/ipykernel_launcher.py:6: SettingWithCopyWarning: \n",
            "A value is trying to be set on a copy of a slice from a DataFrame\n",
            "\n",
            "See the caveats in the documentation: https://pandas.pydata.org/pandas-docs/stable/user_guide/indexing.html#returning-a-view-versus-a-copy\n",
            "  \n",
            "/usr/local/lib/python3.7/dist-packages/ipykernel_launcher.py:8: SettingWithCopyWarning: \n",
            "A value is trying to be set on a copy of a slice from a DataFrame\n",
            "\n",
            "See the caveats in the documentation: https://pandas.pydata.org/pandas-docs/stable/user_guide/indexing.html#returning-a-view-versus-a-copy\n",
            "  \n",
            "/usr/local/lib/python3.7/dist-packages/ipykernel_launcher.py:4: SettingWithCopyWarning: \n",
            "A value is trying to be set on a copy of a slice from a DataFrame\n",
            "\n",
            "See the caveats in the documentation: https://pandas.pydata.org/pandas-docs/stable/user_guide/indexing.html#returning-a-view-versus-a-copy\n",
            "  after removing the cwd from sys.path.\n",
            "/usr/local/lib/python3.7/dist-packages/ipykernel_launcher.py:10: SettingWithCopyWarning: \n",
            "A value is trying to be set on a copy of a slice from a DataFrame\n",
            "\n",
            "See the caveats in the documentation: https://pandas.pydata.org/pandas-docs/stable/user_guide/indexing.html#returning-a-view-versus-a-copy\n",
            "  # Remove the CWD from sys.path while we load stuff.\n"
          ]
        }
      ]
    },
    {
      "cell_type": "code",
      "source": [
        "emp_data['empCategory'] = -100\n",
        "for i in range(len(emp_data)):\n",
        "  if ((emp_data['EmpChange'][i] <= 0.5) & (emp_data['EmpChange'][i] > -0.5)):\n",
        "    emp_data['empCategory'][i] = 0\n",
        "  elif ((emp_data['EmpChange'][i] > 0.5) & (emp_data['EmpChange'][i] <= 1)):\n",
        "    emp_data['empCategory'][i] = 1\n",
        "  elif (emp_data['EmpChange'][i] > 1):\n",
        "    emp_data['empCategory'][i] = 2\n",
        "  elif ((emp_data['EmpChange'][i] < -0.5) & (emp_data['EmpChange'][i] >= -1)):\n",
        "    emp_data['empCategory'][i] = -1\n",
        "  elif (emp_data['EmpChange'][i] < -1):\n",
        "    emp_data['empCategory'][i] = -2"
      ],
      "metadata": {
        "colab": {
          "base_uri": "https://localhost:8080/"
        },
        "id": "wrvYNpimEwLe",
        "outputId": "b32610ca-cfa9-4d71-a84a-177943629cb2"
      },
      "execution_count": null,
      "outputs": [
        {
          "output_type": "stream",
          "name": "stderr",
          "text": [
            "/usr/local/lib/python3.7/dist-packages/ipykernel_launcher.py:4: SettingWithCopyWarning: \n",
            "A value is trying to be set on a copy of a slice from a DataFrame\n",
            "\n",
            "See the caveats in the documentation: https://pandas.pydata.org/pandas-docs/stable/user_guide/indexing.html#returning-a-view-versus-a-copy\n",
            "  after removing the cwd from sys.path.\n",
            "/usr/local/lib/python3.7/dist-packages/ipykernel_launcher.py:6: SettingWithCopyWarning: \n",
            "A value is trying to be set on a copy of a slice from a DataFrame\n",
            "\n",
            "See the caveats in the documentation: https://pandas.pydata.org/pandas-docs/stable/user_guide/indexing.html#returning-a-view-versus-a-copy\n",
            "  \n",
            "/usr/local/lib/python3.7/dist-packages/ipykernel_launcher.py:8: SettingWithCopyWarning: \n",
            "A value is trying to be set on a copy of a slice from a DataFrame\n",
            "\n",
            "See the caveats in the documentation: https://pandas.pydata.org/pandas-docs/stable/user_guide/indexing.html#returning-a-view-versus-a-copy\n",
            "  \n",
            "/usr/local/lib/python3.7/dist-packages/ipykernel_launcher.py:10: SettingWithCopyWarning: \n",
            "A value is trying to be set on a copy of a slice from a DataFrame\n",
            "\n",
            "See the caveats in the documentation: https://pandas.pydata.org/pandas-docs/stable/user_guide/indexing.html#returning-a-view-versus-a-copy\n",
            "  # Remove the CWD from sys.path while we load stuff.\n"
          ]
        }
      ]
    },
    {
      "cell_type": "code",
      "source": [
        "df_std = msa_data.merge(pop_data[['msaID','PopChange', 'PopCategory']], left_on='MSA',right_on='msaID').drop('msaID',axis=1)\n",
        "df_std2 = msa_data.merge(income_data[['msaID','IncomeChange', 'incomeCategory']], left_on='MSA',right_on='msaID').drop('msaID',axis=1)\n",
        "df_std3 = msa_data.merge(emp_data[['msaID','EmpChange', 'empCategory']], left_on='MSA',right_on='msaID').drop('msaID',axis=1)"
      ],
      "metadata": {
        "id": "4NNmMZbf9nVU"
      },
      "execution_count": null,
      "outputs": []
    },
    {
      "cell_type": "code",
      "source": [
        "df_std_train, df_std_test = train_test_split(df_std,random_state=999,test_size=0.3)\n",
        "df_std_train_X = df_std_train.loc[:, 'Agriculture':'Public_Administration']\n",
        "df_std_train_Y = df_std_train['PopCategory']\n",
        "df_std_test_X = df_std_test.loc[:, 'Agriculture':'Public_Administration']\n",
        "df_std_test_Y = df_std_test['PopCategory']\n",
        "\n",
        "df_std2_train, df_std2_test = train_test_split(df_std2,random_state=999,test_size=0.3)\n",
        "df_std2_train_X = df_std2_train.loc[:, 'Agriculture':'Public_Administration']\n",
        "df_std2_train_Y = df_std2_train['incomeCategory']\n",
        "df_std2_test_X = df_std2_test.loc[:, 'Agriculture':'Public_Administration']\n",
        "df_std2_test_Y = df_std2_test['incomeCategory']\n",
        "\n",
        "df_std3_train, df_std3_test = train_test_split(df_std3,random_state=999,test_size=0.3)\n",
        "df_std3_train_X = df_std3_train.loc[:, 'Agriculture':'Public_Administration']\n",
        "df_std3_train_Y = df_std3_train['empCategory']\n",
        "df_std3_test_X = df_std3_test.loc[:, 'Agriculture':'Public_Administration']\n",
        "df_std3_test_Y = df_std3_test['empCategory']"
      ],
      "metadata": {
        "id": "SJdsqA3H9uas"
      },
      "execution_count": null,
      "outputs": []
    },
    {
      "cell_type": "code",
      "source": [
        "param_grid = {'n_estimators':range(1,51,5),'max_leaf_nodes': range(2,10)}\n",
        "rf = RandomForestClassifier()\n",
        "gs = GridSearchCV(rf,param_grid=param_grid)\n",
        "rs = gs.fit(df_std_train_X,df_std_train_Y)\n",
        "print(rs.best_params_)"
      ],
      "metadata": {
        "colab": {
          "base_uri": "https://localhost:8080/"
        },
        "id": "a1RJFeBX9TS6",
        "outputId": "282f0817-4a77-458a-9eaa-29609bf8db7b"
      },
      "execution_count": null,
      "outputs": [
        {
          "output_type": "stream",
          "name": "stderr",
          "text": [
            "/usr/local/lib/python3.7/dist-packages/sklearn/model_selection/_split.py:680: UserWarning: The least populated class in y has only 2 members, which is less than n_splits=5.\n",
            "  UserWarning,\n"
          ]
        },
        {
          "output_type": "stream",
          "name": "stdout",
          "text": [
            "{'max_leaf_nodes': 7, 'n_estimators': 41}\n"
          ]
        }
      ]
    },
    {
      "cell_type": "code",
      "source": [
        "rf = RandomForestClassifier(n_estimators=16,max_leaf_nodes=6)\n",
        "rf.fit(df_std_train_X,df_std_train_Y)"
      ],
      "metadata": {
        "colab": {
          "base_uri": "https://localhost:8080/"
        },
        "id": "OQ-iXplsAKZt",
        "outputId": "c31d395e-9a9e-4b67-fd2f-d6b7f76342eb"
      },
      "execution_count": null,
      "outputs": [
        {
          "output_type": "execute_result",
          "data": {
            "text/plain": [
              "RandomForestClassifier(max_leaf_nodes=6, n_estimators=16)"
            ]
          },
          "metadata": {},
          "execution_count": 12
        }
      ]
    },
    {
      "cell_type": "code",
      "source": [
        "predicted_train = rf.predict(df_std_train_X)\n",
        "print(\"In sample:\",(df_std_train_Y.reset_index(drop=True)==predicted_train).mean())\n",
        "\n",
        "predicted_test = rf.predict(df_std_test_X)\n",
        "print(\"Out of sample:\",(df_std_test_Y.reset_index(drop=True)==predicted_test).mean())"
      ],
      "metadata": {
        "colab": {
          "base_uri": "https://localhost:8080/"
        },
        "id": "1iRgfRbfKAr2",
        "outputId": "e1ed7b2e-228a-42b9-ed00-24fca7463e6e"
      },
      "execution_count": null,
      "outputs": [
        {
          "output_type": "stream",
          "name": "stdout",
          "text": [
            "In sample: 0.6183206106870229\n",
            "Out of sample: 0.5398230088495575\n"
          ]
        }
      ]
    },
    {
      "cell_type": "code",
      "source": [
        "param_grid = {'n_estimators':range(1,51,5),'max_leaf_nodes': range(2,10)}\n",
        "rf = RandomForestClassifier()\n",
        "gs = GridSearchCV(rf,param_grid=param_grid)\n",
        "rs = gs.fit(df_std2_train_X,df_std2_train_Y)\n",
        "print(rs.best_params_)"
      ],
      "metadata": {
        "colab": {
          "base_uri": "https://localhost:8080/"
        },
        "id": "bY7rhdELRzMA",
        "outputId": "f38ee5fc-41ad-4fbd-a6c3-c13540435137"
      },
      "execution_count": null,
      "outputs": [
        {
          "output_type": "stream",
          "name": "stdout",
          "text": [
            "{'max_leaf_nodes': 9, 'n_estimators': 31}\n"
          ]
        }
      ]
    },
    {
      "cell_type": "code",
      "source": [
        "rf = RandomForestClassifier(n_estimators=26,max_leaf_nodes=9)\n",
        "rf.fit(df_std2_train_X,df_std2_train_Y)"
      ],
      "metadata": {
        "colab": {
          "base_uri": "https://localhost:8080/"
        },
        "id": "GR97WeaeRzH_",
        "outputId": "3853425e-de0f-4e03-b6c4-bbc9a8a57b72"
      },
      "execution_count": null,
      "outputs": [
        {
          "output_type": "execute_result",
          "data": {
            "text/plain": [
              "RandomForestClassifier(max_leaf_nodes=9, n_estimators=26)"
            ]
          },
          "metadata": {},
          "execution_count": 15
        }
      ]
    },
    {
      "cell_type": "code",
      "source": [
        "predicted_train = rf.predict(df_std2_train_X)\n",
        "print(\"In sample:\",(df_std2_train_Y.reset_index(drop=True)==predicted_train).mean())\n",
        "\n",
        "predicted_test = rf.predict(df_std2_test_X)\n",
        "print(\"Out of sample:\",(df_std2_test_Y.reset_index(drop=True)==predicted_test).mean())"
      ],
      "metadata": {
        "colab": {
          "base_uri": "https://localhost:8080/"
        },
        "id": "-nu9XAq4RzFr",
        "outputId": "c9eb278a-07ac-438b-d2e7-2f3e8f1dd6c7"
      },
      "execution_count": null,
      "outputs": [
        {
          "output_type": "stream",
          "name": "stdout",
          "text": [
            "In sample: 0.8129770992366412\n",
            "Out of sample: 0.6548672566371682\n"
          ]
        }
      ]
    },
    {
      "cell_type": "code",
      "source": [
        "param_grid = {'n_estimators':range(1,51,5),'max_leaf_nodes': range(2,10)}\n",
        "rf = RandomForestClassifier()\n",
        "gs = GridSearchCV(rf,param_grid=param_grid)\n",
        "rs = gs.fit(df_std3_train_X,df_std3_train_Y)\n",
        "print(rs.best_params_)"
      ],
      "metadata": {
        "colab": {
          "base_uri": "https://localhost:8080/"
        },
        "id": "SrwZCDQSRzDj",
        "outputId": "a5f54122-f607-4bf4-babb-23ea3f4fbdaf"
      },
      "execution_count": null,
      "outputs": [
        {
          "output_type": "stream",
          "name": "stderr",
          "text": [
            "/usr/local/lib/python3.7/dist-packages/sklearn/model_selection/_split.py:680: UserWarning: The least populated class in y has only 1 members, which is less than n_splits=5.\n",
            "  UserWarning,\n"
          ]
        },
        {
          "output_type": "stream",
          "name": "stdout",
          "text": [
            "{'max_leaf_nodes': 6, 'n_estimators': 46}\n"
          ]
        }
      ]
    },
    {
      "cell_type": "code",
      "source": [
        "rf = RandomForestClassifier(n_estimators=1,max_leaf_nodes=2)\n",
        "rf.fit(df_std3_train_X,df_std3_train_Y)"
      ],
      "metadata": {
        "colab": {
          "base_uri": "https://localhost:8080/"
        },
        "id": "qgME8bpjRzBg",
        "outputId": "49287569-88b2-4ee4-c3e2-e1b2a7de7213"
      },
      "execution_count": null,
      "outputs": [
        {
          "output_type": "execute_result",
          "data": {
            "text/plain": [
              "RandomForestClassifier(max_leaf_nodes=2, n_estimators=1)"
            ]
          },
          "metadata": {},
          "execution_count": 18
        }
      ]
    },
    {
      "cell_type": "code",
      "source": [
        "predicted_train = rf.predict(df_std3_train_X)\n",
        "print(\"In sample:\",(df_std3_train_Y.reset_index(drop=True)==predicted_train).mean())\n",
        "\n",
        "predicted_test = rf.predict(df_std3_test_X)\n",
        "print(\"Out of sample:\",(df_std3_test_Y.reset_index(drop=True)==predicted_test).mean())"
      ],
      "metadata": {
        "colab": {
          "base_uri": "https://localhost:8080/"
        },
        "id": "eevkC7azRy_O",
        "outputId": "c9c84071-d2d9-4506-ae4c-459f700231be"
      },
      "execution_count": null,
      "outputs": [
        {
          "output_type": "stream",
          "name": "stdout",
          "text": [
            "In sample: 0.38636363636363635\n",
            "Out of sample: 0.39473684210526316\n"
          ]
        }
      ]
    },
    {
      "cell_type": "code",
      "source": [
        "#RFC with MSA classifier 0/1 on 1 and 5 category classifiers"
      ],
      "metadata": {
        "id": "GPpK6VeRFiD5"
      },
      "execution_count": null,
      "outputs": []
    },
    {
      "cell_type": "code",
      "source": [
        "# for i in msa_data.columns:\n",
        "#   if i != 'MSA':\n",
        "#     for j in range(len(msa_data[i])):\n",
        "#       if msa_data[i][j] >= 1:\n",
        "#         msa_data[i][j] = 1\n",
        "#       else:\n",
        "#         msa_data[i][j] = 0\n",
        "\n",
        "for column in msa_data.columns:\n",
        "  if column != 'MSA' and column != 'PopChange':\n",
        "    msa_data[column] = msa_data[column]>=msa_data[column].median()"
      ],
      "metadata": {
        "id": "wgFmGNxTLkEe"
      },
      "execution_count": null,
      "outputs": []
    },
    {
      "cell_type": "code",
      "source": [
        "df_std = msa_data.merge(pop_data[['msaID','PopChange', 'PopCategory']], left_on='MSA',right_on='msaID').drop('msaID',axis=1)\n",
        "df_std2 = msa_data.merge(income_data[['msaID','IncomeChange', 'incomeCategory']], left_on='MSA',right_on='msaID').drop('msaID',axis=1)\n",
        "df_std3 = msa_data.merge(emp_data[['msaID','EmpChange', 'empCategory']], left_on='MSA',right_on='msaID').drop('msaID',axis=1)"
      ],
      "metadata": {
        "id": "MrYx9r4tLkCo"
      },
      "execution_count": null,
      "outputs": []
    },
    {
      "cell_type": "code",
      "source": [
        "df_std_train, df_std_test = train_test_split(df_std,random_state=999,test_size=0.3)\n",
        "df_std_train_X = df_std_train.loc[:, 'Agriculture':'Public_Administration']\n",
        "df_std_train_Y = df_std_train['PopCategory']\n",
        "df_std_test_X = df_std_test.loc[:, 'Agriculture':'Public_Administration']\n",
        "df_std_test_Y = df_std_test['PopCategory']\n",
        "\n",
        "df_std2_train, df_std2_test = train_test_split(df_std2,random_state=999,test_size=0.3)\n",
        "df_std2_train_X = df_std2_train.loc[:, 'Agriculture':'Public_Administration']\n",
        "df_std2_train_Y = df_std2_train['incomeCategory']\n",
        "df_std2_test_X = df_std2_test.loc[:, 'Agriculture':'Public_Administration']\n",
        "df_std2_test_Y = df_std2_test['incomeCategory']\n",
        "\n",
        "df_std3_train, df_std3_test = train_test_split(df_std3,random_state=999,test_size=0.3)\n",
        "df_std3_train_X = df_std3_train.loc[:, 'Agriculture':'Public_Administration']\n",
        "df_std3_train_Y = df_std3_train['empCategory']\n",
        "df_std3_test_X = df_std3_test.loc[:, 'Agriculture':'Public_Administration']\n",
        "df_std3_test_Y = df_std3_test['empCategory']"
      ],
      "metadata": {
        "id": "4pGOoXQ0LkAU"
      },
      "execution_count": null,
      "outputs": []
    },
    {
      "cell_type": "code",
      "source": [
        "param_grid = {'n_estimators':range(1,51,5),'max_leaf_nodes': range(2,10)}\n",
        "rf = RandomForestClassifier()\n",
        "gs = GridSearchCV(rf,param_grid=param_grid)\n",
        "rs = gs.fit(df_std_train_X,df_std_train_Y)\n",
        "print(rs.best_params_)"
      ],
      "metadata": {
        "colab": {
          "base_uri": "https://localhost:8080/"
        },
        "id": "i7YZTRmpLj-d",
        "outputId": "7a7fda49-7bd0-4fcd-e45c-2d6e90dbca92"
      },
      "execution_count": null,
      "outputs": [
        {
          "output_type": "stream",
          "name": "stderr",
          "text": [
            "/usr/local/lib/python3.7/dist-packages/sklearn/model_selection/_split.py:680: UserWarning: The least populated class in y has only 2 members, which is less than n_splits=5.\n",
            "  UserWarning,\n"
          ]
        },
        {
          "output_type": "stream",
          "name": "stdout",
          "text": [
            "{'max_leaf_nodes': 5, 'n_estimators': 36}\n"
          ]
        }
      ]
    },
    {
      "cell_type": "code",
      "source": [
        "rf = RandomForestClassifier(n_estimators=41,max_leaf_nodes=8)\n",
        "rf.fit(df_std_train_X,df_std_train_Y)"
      ],
      "metadata": {
        "colab": {
          "base_uri": "https://localhost:8080/"
        },
        "id": "sk9FHDqLLj8a",
        "outputId": "84d37682-34d6-4c8a-8c0f-c9814466a9dc"
      },
      "execution_count": null,
      "outputs": [
        {
          "output_type": "execute_result",
          "data": {
            "text/plain": [
              "RandomForestClassifier(max_leaf_nodes=8, n_estimators=41)"
            ]
          },
          "metadata": {},
          "execution_count": 25
        }
      ]
    },
    {
      "cell_type": "code",
      "source": [
        "predicted_train = rf.predict(df_std_train_X)\n",
        "print(\"In sample:\",(df_std_train_Y.reset_index(drop=True)==predicted_train).mean())\n",
        "\n",
        "predicted_test = rf.predict(df_std_test_X)\n",
        "print(\"Out of sample:\",(df_std_test_Y.reset_index(drop=True)==predicted_test).mean())"
      ],
      "metadata": {
        "colab": {
          "base_uri": "https://localhost:8080/"
        },
        "id": "kVJhrjAsLj6O",
        "outputId": "70b81d58-c9d4-4c0d-9e20-fdaeed7a0531"
      },
      "execution_count": null,
      "outputs": [
        {
          "output_type": "stream",
          "name": "stdout",
          "text": [
            "In sample: 0.5992366412213741\n",
            "Out of sample: 0.5575221238938053\n"
          ]
        }
      ]
    },
    {
      "cell_type": "code",
      "source": [
        "param_grid = {'n_estimators':range(1,51,5),'max_leaf_nodes': range(2,10)}\n",
        "rf = RandomForestClassifier()\n",
        "gs = GridSearchCV(rf,param_grid=param_grid)\n",
        "rs = gs.fit(df_std2_train_X,df_std2_train_Y)\n",
        "print(rs.best_params_)\n",
        "\n",
        "# rf = RandomForestClassifier(n_estimators=16,max_leaf_nodes=5)\n",
        "# rf.fit(df_std2_train_X,df_std2_train_Y)\n",
        "\n",
        "# predicted_train = rf.predict(df_std2_train_X)\n",
        "# print(\"In sample:\",(df_std2_train_Y.reset_index(drop=True)==predicted_train).mean())\n",
        "\n",
        "# predicted_test = rf.predict(df_std2_test_X)\n",
        "# print(\"Out of sample:\",(df_std2_test_Y.reset_index(drop=True)==predicted_test).mean())"
      ],
      "metadata": {
        "colab": {
          "base_uri": "https://localhost:8080/"
        },
        "id": "tfYtkxXCTh7d",
        "outputId": "db3d42fd-3a7e-4ef5-ad86-475e79751ec7"
      },
      "execution_count": null,
      "outputs": [
        {
          "output_type": "stream",
          "name": "stdout",
          "text": [
            "{'max_leaf_nodes': 8, 'n_estimators': 46}\n"
          ]
        }
      ]
    },
    {
      "cell_type": "code",
      "source": [
        "rf = RandomForestClassifier(n_estimators=1,max_leaf_nodes=2)\n",
        "rf.fit(df_std2_train_X,df_std2_train_Y)"
      ],
      "metadata": {
        "colab": {
          "base_uri": "https://localhost:8080/"
        },
        "id": "3ZwNZV_7Th5Y",
        "outputId": "0eedb0d1-dabe-4210-9127-feaca63d67a5"
      },
      "execution_count": null,
      "outputs": [
        {
          "output_type": "execute_result",
          "data": {
            "text/plain": [
              "RandomForestClassifier(max_leaf_nodes=2, n_estimators=1)"
            ]
          },
          "metadata": {},
          "execution_count": 28
        }
      ]
    },
    {
      "cell_type": "code",
      "source": [
        "predicted_train = rf.predict(df_std2_train_X)\n",
        "print(\"In sample:\",(df_std2_train_Y.reset_index(drop=True)==predicted_train).mean())\n",
        "\n",
        "predicted_test = rf.predict(df_std2_test_X)\n",
        "print(\"Out of sample:\",(df_std2_test_Y.reset_index(drop=True)==predicted_test).mean())"
      ],
      "metadata": {
        "colab": {
          "base_uri": "https://localhost:8080/"
        },
        "id": "ucStG8x-Th3h",
        "outputId": "3f00d684-ba9b-4047-d5c1-581a7ac2019d"
      },
      "execution_count": null,
      "outputs": [
        {
          "output_type": "stream",
          "name": "stdout",
          "text": [
            "In sample: 0.44656488549618323\n",
            "Out of sample: 0.4690265486725664\n"
          ]
        }
      ]
    },
    {
      "cell_type": "code",
      "source": [
        "param_grid = {'n_estimators':range(1,51,5),'max_leaf_nodes': range(2,10)}\n",
        "rf = RandomForestClassifier()\n",
        "gs = GridSearchCV(rf,param_grid=param_grid)\n",
        "rs = gs.fit(df_std3_train_X,df_std3_train_Y)\n",
        "print(rs.best_params_)"
      ],
      "metadata": {
        "colab": {
          "base_uri": "https://localhost:8080/"
        },
        "id": "Qpv2uY-RTh1e",
        "outputId": "87b4ad94-2610-4ac2-c3ac-7ad51beb05c8"
      },
      "execution_count": null,
      "outputs": [
        {
          "output_type": "stream",
          "name": "stderr",
          "text": [
            "/usr/local/lib/python3.7/dist-packages/sklearn/model_selection/_split.py:680: UserWarning: The least populated class in y has only 1 members, which is less than n_splits=5.\n",
            "  UserWarning,\n"
          ]
        },
        {
          "output_type": "stream",
          "name": "stdout",
          "text": [
            "{'max_leaf_nodes': 4, 'n_estimators': 31}\n"
          ]
        }
      ]
    },
    {
      "cell_type": "code",
      "source": [
        "rf = RandomForestClassifier(n_estimators=1,max_leaf_nodes=2)\n",
        "rf.fit(df_std3_train_X,df_std3_train_Y)"
      ],
      "metadata": {
        "colab": {
          "base_uri": "https://localhost:8080/"
        },
        "id": "NOlkNdAfThzn",
        "outputId": "2c77ae41-807c-47bd-e27d-c3d45b748856"
      },
      "execution_count": null,
      "outputs": [
        {
          "output_type": "execute_result",
          "data": {
            "text/plain": [
              "RandomForestClassifier(max_leaf_nodes=2, n_estimators=1)"
            ]
          },
          "metadata": {},
          "execution_count": 31
        }
      ]
    },
    {
      "cell_type": "code",
      "source": [
        "predicted_train = rf.predict(df_std3_train_X)\n",
        "print(\"In sample:\",(df_std3_train_Y.reset_index(drop=True)==predicted_train).mean())\n",
        "\n",
        "predicted_test = rf.predict(df_std3_test_X)\n",
        "print(\"Out of sample:\",(df_std3_test_Y.reset_index(drop=True)==predicted_test).mean())"
      ],
      "metadata": {
        "colab": {
          "base_uri": "https://localhost:8080/"
        },
        "id": "c12HipxHThxT",
        "outputId": "f5c51157-001a-4344-960c-52a28c8419ad"
      },
      "execution_count": null,
      "outputs": [
        {
          "output_type": "stream",
          "name": "stdout",
          "text": [
            "In sample: 0.3522727272727273\n",
            "Out of sample: 0.3333333333333333\n"
          ]
        }
      ]
    },
    {
      "cell_type": "code",
      "source": [],
      "metadata": {
        "id": "KfOcA5VmThtZ"
      },
      "execution_count": null,
      "outputs": []
    },
    {
      "cell_type": "code",
      "source": [],
      "metadata": {
        "id": "UNNTpm1FThrR"
      },
      "execution_count": null,
      "outputs": []
    },
    {
      "cell_type": "code",
      "source": [
        "#RFC with MSA classifier 0/1 on 1 and 3 category classifiers"
      ],
      "metadata": {
        "id": "gWKEmR9qL2IA"
      },
      "execution_count": null,
      "outputs": []
    },
    {
      "cell_type": "code",
      "source": [
        "pop_data['PopCategory'] = -100\n",
        "for i in range(len(pop_data)):\n",
        "  if ((pop_data['PopChange'][i] >= 0) & (pop_data['PopChange'][i] <= 0.8)):\n",
        "    pop_data['PopCategory'][i] = 0\n",
        "  elif ((pop_data['PopChange'][i] > 0.8)):\n",
        "    pop_data['PopCategory'][i] = 1\n",
        "  elif (pop_data['PopChange'][i] < 0):\n",
        "    pop_data['PopCategory'][i] = -1"
      ],
      "metadata": {
        "colab": {
          "base_uri": "https://localhost:8080/"
        },
        "id": "GWvGSRgvMId-",
        "outputId": "6268e5c8-e920-4c03-e724-f4130ae0214a"
      },
      "execution_count": null,
      "outputs": [
        {
          "output_type": "stream",
          "name": "stderr",
          "text": [
            "/usr/local/lib/python3.7/dist-packages/ipykernel_launcher.py:4: SettingWithCopyWarning: \n",
            "A value is trying to be set on a copy of a slice from a DataFrame\n",
            "\n",
            "See the caveats in the documentation: https://pandas.pydata.org/pandas-docs/stable/user_guide/indexing.html#returning-a-view-versus-a-copy\n",
            "  after removing the cwd from sys.path.\n",
            "/usr/local/lib/python3.7/dist-packages/ipykernel_launcher.py:8: SettingWithCopyWarning: \n",
            "A value is trying to be set on a copy of a slice from a DataFrame\n",
            "\n",
            "See the caveats in the documentation: https://pandas.pydata.org/pandas-docs/stable/user_guide/indexing.html#returning-a-view-versus-a-copy\n",
            "  \n",
            "/usr/local/lib/python3.7/dist-packages/ipykernel_launcher.py:6: SettingWithCopyWarning: \n",
            "A value is trying to be set on a copy of a slice from a DataFrame\n",
            "\n",
            "See the caveats in the documentation: https://pandas.pydata.org/pandas-docs/stable/user_guide/indexing.html#returning-a-view-versus-a-copy\n",
            "  \n"
          ]
        }
      ]
    },
    {
      "cell_type": "code",
      "source": [
        "income_data['incomeCategory'] = -100\n",
        "for i in range(len(income_data)):\n",
        "  if ((income_data['IncomeChange'][i] >= 0) & (income_data['IncomeChange'][i] <= 0.8)):\n",
        "    income_data['incomeCategory'][i] = 0\n",
        "  elif ((income_data['IncomeChange'][i] > 0.8)):\n",
        "    income_data['incomeCategory'][i] = 1\n",
        "  elif (income_data['IncomeChange'][i] < 0):\n",
        "    income_data['incomeCategory'][i] = -1"
      ],
      "metadata": {
        "colab": {
          "base_uri": "https://localhost:8080/"
        },
        "id": "rRYNWDAWMIbz",
        "outputId": "962a8c48-794a-4579-81ca-16344832e04a"
      },
      "execution_count": null,
      "outputs": [
        {
          "output_type": "stream",
          "name": "stderr",
          "text": [
            "/usr/local/lib/python3.7/dist-packages/ipykernel_launcher.py:4: SettingWithCopyWarning: \n",
            "A value is trying to be set on a copy of a slice from a DataFrame\n",
            "\n",
            "See the caveats in the documentation: https://pandas.pydata.org/pandas-docs/stable/user_guide/indexing.html#returning-a-view-versus-a-copy\n",
            "  after removing the cwd from sys.path.\n",
            "/usr/local/lib/python3.7/dist-packages/ipykernel_launcher.py:6: SettingWithCopyWarning: \n",
            "A value is trying to be set on a copy of a slice from a DataFrame\n",
            "\n",
            "See the caveats in the documentation: https://pandas.pydata.org/pandas-docs/stable/user_guide/indexing.html#returning-a-view-versus-a-copy\n",
            "  \n",
            "/usr/local/lib/python3.7/dist-packages/ipykernel_launcher.py:8: SettingWithCopyWarning: \n",
            "A value is trying to be set on a copy of a slice from a DataFrame\n",
            "\n",
            "See the caveats in the documentation: https://pandas.pydata.org/pandas-docs/stable/user_guide/indexing.html#returning-a-view-versus-a-copy\n",
            "  \n"
          ]
        }
      ]
    },
    {
      "cell_type": "code",
      "source": [
        "emp_data['empCategory'] = -100\n",
        "for i in range(len(emp_data)):\n",
        "  if ((emp_data['EmpChange'][i] >= 0) & (emp_data['EmpChange'][i] <= 0.8)):\n",
        "    emp_data['empCategory'][i] = 0\n",
        "  elif ((emp_data['EmpChange'][i] > 0.8)):\n",
        "    emp_data['empCategory'][i] = 1\n",
        "  elif (emp_data['EmpChange'][i] < 0):\n",
        "    emp_data['empCategory'][i] = -1"
      ],
      "metadata": {
        "colab": {
          "base_uri": "https://localhost:8080/"
        },
        "id": "CEWOjqCJMIZ9",
        "outputId": "de628ebe-2ce8-42a6-cd00-5ad026c872fa"
      },
      "execution_count": null,
      "outputs": [
        {
          "output_type": "stream",
          "name": "stderr",
          "text": [
            "/usr/local/lib/python3.7/dist-packages/ipykernel_launcher.py:4: SettingWithCopyWarning: \n",
            "A value is trying to be set on a copy of a slice from a DataFrame\n",
            "\n",
            "See the caveats in the documentation: https://pandas.pydata.org/pandas-docs/stable/user_guide/indexing.html#returning-a-view-versus-a-copy\n",
            "  after removing the cwd from sys.path.\n",
            "/usr/local/lib/python3.7/dist-packages/ipykernel_launcher.py:6: SettingWithCopyWarning: \n",
            "A value is trying to be set on a copy of a slice from a DataFrame\n",
            "\n",
            "See the caveats in the documentation: https://pandas.pydata.org/pandas-docs/stable/user_guide/indexing.html#returning-a-view-versus-a-copy\n",
            "  \n",
            "/usr/local/lib/python3.7/dist-packages/ipykernel_launcher.py:8: SettingWithCopyWarning: \n",
            "A value is trying to be set on a copy of a slice from a DataFrame\n",
            "\n",
            "See the caveats in the documentation: https://pandas.pydata.org/pandas-docs/stable/user_guide/indexing.html#returning-a-view-versus-a-copy\n",
            "  \n"
          ]
        }
      ]
    },
    {
      "cell_type": "code",
      "source": [
        "df_std = msa_data.merge(pop_data[['msaID','PopChange', 'PopCategory']], left_on='MSA',right_on='msaID').drop('msaID',axis=1)\n",
        "df_std2 = msa_data.merge(income_data[['msaID','IncomeChange', 'incomeCategory']], left_on='MSA',right_on='msaID').drop('msaID',axis=1)\n",
        "df_std3 = msa_data.merge(emp_data[['msaID','EmpChange', 'empCategory']], left_on='MSA',right_on='msaID').drop('msaID',axis=1)"
      ],
      "metadata": {
        "id": "CQhRj-UzMIVD"
      },
      "execution_count": null,
      "outputs": []
    },
    {
      "cell_type": "code",
      "source": [
        "df_std_train, df_std_test = train_test_split(df_std,random_state=999,test_size=0.3)\n",
        "df_std_train_X = df_std_train.loc[:, 'Agriculture':'Public_Administration']\n",
        "df_std_train_Y = df_std_train['PopCategory']\n",
        "df_std_test_X = df_std_test.loc[:, 'Agriculture':'Public_Administration']\n",
        "df_std_test_Y = df_std_test['PopCategory']\n",
        "\n",
        "df_std2_train, df_std2_test = train_test_split(df_std2,random_state=999,test_size=0.3)\n",
        "df_std2_train_X = df_std2_train.loc[:, 'Agriculture':'Public_Administration']\n",
        "df_std2_train_Y = df_std2_train['incomeCategory']\n",
        "df_std2_test_X = df_std2_test.loc[:, 'Agriculture':'Public_Administration']\n",
        "df_std2_test_Y = df_std2_test['incomeCategory']\n",
        "\n",
        "df_std3_train, df_std3_test = train_test_split(df_std3,random_state=999,test_size=0.3)\n",
        "df_std3_train_X = df_std3_train.loc[:, 'Agriculture':'Public_Administration']\n",
        "df_std3_train_Y = df_std3_train['empCategory']\n",
        "df_std3_test_X = df_std3_test.loc[:, 'Agriculture':'Public_Administration']\n",
        "df_std3_test_Y = df_std3_test['empCategory']"
      ],
      "metadata": {
        "id": "CVSkMMLoN4Ev"
      },
      "execution_count": null,
      "outputs": []
    },
    {
      "cell_type": "code",
      "source": [
        "param_grid = {'n_estimators':range(1,51,5),'max_leaf_nodes': range(2,10)}\n",
        "rf = RandomForestClassifier()\n",
        "gs = GridSearchCV(rf,param_grid=param_grid)\n",
        "rs = gs.fit(df_std_train_X,df_std_train_Y)\n",
        "print(rs.best_params_)"
      ],
      "metadata": {
        "colab": {
          "base_uri": "https://localhost:8080/"
        },
        "id": "Qov3Qxk-N5fp",
        "outputId": "5658790d-165f-4a41-b68f-713974bf37d4"
      },
      "execution_count": null,
      "outputs": [
        {
          "output_type": "stream",
          "name": "stdout",
          "text": [
            "{'max_leaf_nodes': 8, 'n_estimators': 6}\n"
          ]
        }
      ]
    },
    {
      "cell_type": "code",
      "source": [
        "rf = RandomForestClassifier(n_estimators=26,max_leaf_nodes=9)\n",
        "rf.fit(df_std_train_X,df_std_train_Y)"
      ],
      "metadata": {
        "colab": {
          "base_uri": "https://localhost:8080/"
        },
        "id": "5vIE5ezQOEZr",
        "outputId": "c3eca64b-3f3d-45ef-d869-54206e00bd31"
      },
      "execution_count": null,
      "outputs": [
        {
          "output_type": "execute_result",
          "data": {
            "text/plain": [
              "RandomForestClassifier(max_leaf_nodes=9, n_estimators=26)"
            ]
          },
          "metadata": {},
          "execution_count": 40
        }
      ]
    },
    {
      "cell_type": "code",
      "source": [
        "predicted_train = rf.predict(df_std_train_X)\n",
        "print(\"In sample:\",(df_std_train_Y.reset_index(drop=True)==predicted_train).mean())\n",
        "\n",
        "predicted_test = rf.predict(df_std_test_X)\n",
        "print(\"Out of sample:\",(df_std_test_Y.reset_index(drop=True)==predicted_test).mean())"
      ],
      "metadata": {
        "colab": {
          "base_uri": "https://localhost:8080/"
        },
        "id": "SQi2S0zGOIUn",
        "outputId": "a96bafa4-c0bf-4dce-e226-7e1fe41508f1"
      },
      "execution_count": null,
      "outputs": [
        {
          "output_type": "stream",
          "name": "stdout",
          "text": [
            "In sample: 0.6603053435114504\n",
            "Out of sample: 0.5221238938053098\n"
          ]
        }
      ]
    },
    {
      "cell_type": "code",
      "source": [
        "param_grid = {'n_estimators':range(1,51,5),'max_leaf_nodes': range(2,10)}\n",
        "rf = RandomForestClassifier()\n",
        "gs = GridSearchCV(rf,param_grid=param_grid)\n",
        "rs = gs.fit(df_std2_train_X,df_std2_train_Y)\n",
        "print(rs.best_params_)"
      ],
      "metadata": {
        "colab": {
          "base_uri": "https://localhost:8080/"
        },
        "id": "cOnENQcZT5gC",
        "outputId": "b55eebf2-93e6-482a-ee88-18cc0c78c2f1"
      },
      "execution_count": null,
      "outputs": [
        {
          "output_type": "stream",
          "name": "stdout",
          "text": [
            "{'max_leaf_nodes': 4, 'n_estimators': 16}\n"
          ]
        }
      ]
    },
    {
      "cell_type": "code",
      "source": [
        "rf = RandomForestClassifier(n_estimators=31,max_leaf_nodes=4)\n",
        "rf.fit(df_std2_train_X,df_std2_train_Y)"
      ],
      "metadata": {
        "colab": {
          "base_uri": "https://localhost:8080/"
        },
        "id": "lcfJ4qshT5eS",
        "outputId": "2b7c891a-2b26-4b90-de03-405778f83398"
      },
      "execution_count": null,
      "outputs": [
        {
          "output_type": "execute_result",
          "data": {
            "text/plain": [
              "RandomForestClassifier(max_leaf_nodes=4, n_estimators=31)"
            ]
          },
          "metadata": {},
          "execution_count": 43
        }
      ]
    },
    {
      "cell_type": "code",
      "source": [
        "predicted_train = rf.predict(df_std2_train_X)\n",
        "print(\"In sample:\",(df_std2_train_Y.reset_index(drop=True)==predicted_train).mean())"
      ],
      "metadata": {
        "colab": {
          "base_uri": "https://localhost:8080/"
        },
        "id": "YnLgCc9jT5cL",
        "outputId": "23ed4d77-f3ac-4b1b-ea19-e4d2983fc08d"
      },
      "execution_count": null,
      "outputs": [
        {
          "output_type": "stream",
          "name": "stdout",
          "text": [
            "In sample: 0.6450381679389313\n"
          ]
        }
      ]
    },
    {
      "cell_type": "code",
      "source": [
        "\n",
        "predicted_test = rf.predict(df_std2_test_X)\n",
        "print(\"Out of sample:\",(df_std2_test_Y.reset_index(drop=True)==predicted_test).mean())"
      ],
      "metadata": {
        "colab": {
          "base_uri": "https://localhost:8080/"
        },
        "id": "61ccc-Y4T5aY",
        "outputId": "2f39727d-3be3-45cd-fa6c-7b29a72ff71b"
      },
      "execution_count": null,
      "outputs": [
        {
          "output_type": "stream",
          "name": "stdout",
          "text": [
            "Out of sample: 0.5663716814159292\n"
          ]
        }
      ]
    },
    {
      "cell_type": "code",
      "source": [
        "param_grid = {'n_estimators':range(1,51,5),'max_leaf_nodes': range(2,10)}\n",
        "rf = RandomForestClassifier()\n",
        "gs = GridSearchCV(rf,param_grid=param_grid)\n",
        "rs = gs.fit(df_std3_train_X,df_std3_train_Y)\n",
        "print(rs.best_params_)"
      ],
      "metadata": {
        "colab": {
          "base_uri": "https://localhost:8080/"
        },
        "id": "u2iPQma1T5Ye",
        "outputId": "b737c3bc-9673-4eb9-d3f7-1985fcdac8b9"
      },
      "execution_count": null,
      "outputs": [
        {
          "output_type": "stream",
          "name": "stdout",
          "text": [
            "{'max_leaf_nodes': 7, 'n_estimators': 36}\n"
          ]
        }
      ]
    },
    {
      "cell_type": "code",
      "source": [
        "rf = RandomForestClassifier(n_estimators=6,max_leaf_nodes=8)\n",
        "rf.fit(df_std3_train_X,df_std3_train_Y)"
      ],
      "metadata": {
        "colab": {
          "base_uri": "https://localhost:8080/"
        },
        "id": "IE0eHr_2T5Wa",
        "outputId": "95aa28dc-7298-4d3b-e18a-39d97eb1c0bc"
      },
      "execution_count": null,
      "outputs": [
        {
          "output_type": "execute_result",
          "data": {
            "text/plain": [
              "RandomForestClassifier(max_leaf_nodes=8, n_estimators=6)"
            ]
          },
          "metadata": {},
          "execution_count": 47
        }
      ]
    },
    {
      "cell_type": "code",
      "source": [
        "predicted_train = rf.predict(df_std3_train_X)\n",
        "print(\"In sample:\",(df_std3_train_Y.reset_index(drop=True)==predicted_train).mean())\n",
        "\n",
        "predicted_test = rf.predict(df_std3_test_X)\n",
        "print(\"Out of sample:\",(df_std3_test_Y.reset_index(drop=True)==predicted_test).mean())"
      ],
      "metadata": {
        "colab": {
          "base_uri": "https://localhost:8080/"
        },
        "id": "9donrNGvT5Um",
        "outputId": "51da8077-04b6-437c-c0bb-0f321f4ac36f"
      },
      "execution_count": null,
      "outputs": [
        {
          "output_type": "stream",
          "name": "stdout",
          "text": [
            "In sample: 0.6704545454545454\n",
            "Out of sample: 0.5526315789473685\n"
          ]
        }
      ]
    },
    {
      "cell_type": "code",
      "source": [],
      "metadata": {
        "id": "Mr_MTRX0T5Sg"
      },
      "execution_count": null,
      "outputs": []
    },
    {
      "cell_type": "code",
      "source": [],
      "metadata": {
        "id": "zGFvChf4T5Qb"
      },
      "execution_count": null,
      "outputs": []
    },
    {
      "cell_type": "code",
      "source": [],
      "metadata": {
        "id": "o7fQo5L0T5On"
      },
      "execution_count": null,
      "outputs": []
    },
    {
      "cell_type": "code",
      "source": [],
      "metadata": {
        "id": "K_B1oh4UT5M9"
      },
      "execution_count": null,
      "outputs": []
    },
    {
      "cell_type": "code",
      "source": [
        "#RFC with MSA classifier 0/1 on 1 and 2 category classifiers"
      ],
      "metadata": {
        "id": "IeT0U9SUONMK"
      },
      "execution_count": null,
      "outputs": []
    },
    {
      "cell_type": "code",
      "source": [
        "pop_data['PopCategory'] = -100\n",
        "for i in range(len(pop_data)):\n",
        "  if ((pop_data['PopChange'][i] >= 0)):\n",
        "    pop_data['PopCategory'][i] = 1\n",
        "  elif ((pop_data['PopChange'][i] < 0)):\n",
        "    pop_data['PopCategory'][i] = -1"
      ],
      "metadata": {
        "colab": {
          "base_uri": "https://localhost:8080/"
        },
        "id": "odzV3UmKOS8E",
        "outputId": "82785921-6a97-46a2-f4d7-a57da5d3c5f2"
      },
      "execution_count": null,
      "outputs": [
        {
          "output_type": "stream",
          "name": "stderr",
          "text": [
            "/usr/local/lib/python3.7/dist-packages/ipykernel_launcher.py:4: SettingWithCopyWarning: \n",
            "A value is trying to be set on a copy of a slice from a DataFrame\n",
            "\n",
            "See the caveats in the documentation: https://pandas.pydata.org/pandas-docs/stable/user_guide/indexing.html#returning-a-view-versus-a-copy\n",
            "  after removing the cwd from sys.path.\n",
            "/usr/local/lib/python3.7/dist-packages/ipykernel_launcher.py:6: SettingWithCopyWarning: \n",
            "A value is trying to be set on a copy of a slice from a DataFrame\n",
            "\n",
            "See the caveats in the documentation: https://pandas.pydata.org/pandas-docs/stable/user_guide/indexing.html#returning-a-view-versus-a-copy\n",
            "  \n"
          ]
        }
      ]
    },
    {
      "cell_type": "code",
      "source": [
        "income_data['incomeCategory'] = -100\n",
        "for i in range(len(income_data)):\n",
        "  if ((income_data['IncomeChange'][i] >= 0)):\n",
        "    income_data['incomeCategory'][i] = 1\n",
        "  elif ((income_data['IncomeChange'][i] < 0)):\n",
        "    income_data['incomeCategory'][i] = -1"
      ],
      "metadata": {
        "colab": {
          "base_uri": "https://localhost:8080/"
        },
        "id": "W7Sa-i6uOS6N",
        "outputId": "83fa5b05-4ed2-4a3a-bcb9-0c939f8e6768"
      },
      "execution_count": null,
      "outputs": [
        {
          "output_type": "stream",
          "name": "stderr",
          "text": [
            "/usr/local/lib/python3.7/dist-packages/ipykernel_launcher.py:4: SettingWithCopyWarning: \n",
            "A value is trying to be set on a copy of a slice from a DataFrame\n",
            "\n",
            "See the caveats in the documentation: https://pandas.pydata.org/pandas-docs/stable/user_guide/indexing.html#returning-a-view-versus-a-copy\n",
            "  after removing the cwd from sys.path.\n",
            "/usr/local/lib/python3.7/dist-packages/ipykernel_launcher.py:6: SettingWithCopyWarning: \n",
            "A value is trying to be set on a copy of a slice from a DataFrame\n",
            "\n",
            "See the caveats in the documentation: https://pandas.pydata.org/pandas-docs/stable/user_guide/indexing.html#returning-a-view-versus-a-copy\n",
            "  \n"
          ]
        }
      ]
    },
    {
      "cell_type": "code",
      "source": [
        "emp_data['empCategory'] = -100\n",
        "for i in range(len(emp_data)):\n",
        "  if ((emp_data['EmpChange'][i] >= 0)):\n",
        "    emp_data['empCategory'][i] = 1\n",
        "  elif ((emp_data['EmpChange'][i] < 0)):\n",
        "    emp_data['empCategory'][i] = -1"
      ],
      "metadata": {
        "colab": {
          "base_uri": "https://localhost:8080/"
        },
        "id": "8AJMW5k2OS4K",
        "outputId": "c0d76d6f-e031-41b2-bf39-384d4fa282d5"
      },
      "execution_count": null,
      "outputs": [
        {
          "output_type": "stream",
          "name": "stderr",
          "text": [
            "/usr/local/lib/python3.7/dist-packages/ipykernel_launcher.py:4: SettingWithCopyWarning: \n",
            "A value is trying to be set on a copy of a slice from a DataFrame\n",
            "\n",
            "See the caveats in the documentation: https://pandas.pydata.org/pandas-docs/stable/user_guide/indexing.html#returning-a-view-versus-a-copy\n",
            "  after removing the cwd from sys.path.\n",
            "/usr/local/lib/python3.7/dist-packages/ipykernel_launcher.py:6: SettingWithCopyWarning: \n",
            "A value is trying to be set on a copy of a slice from a DataFrame\n",
            "\n",
            "See the caveats in the documentation: https://pandas.pydata.org/pandas-docs/stable/user_guide/indexing.html#returning-a-view-versus-a-copy\n",
            "  \n"
          ]
        }
      ]
    },
    {
      "cell_type": "code",
      "source": [
        "df_std = msa_data.merge(pop_data[['msaID','PopChange', 'PopCategory']], left_on='MSA',right_on='msaID').drop('msaID',axis=1)\n",
        "df_std2 = msa_data.merge(income_data[['msaID','IncomeChange', 'incomeCategory']], left_on='MSA',right_on='msaID').drop('msaID',axis=1)\n",
        "df_std3 = msa_data.merge(emp_data[['msaID','EmpChange', 'empCategory']], left_on='MSA',right_on='msaID').drop('msaID',axis=1)"
      ],
      "metadata": {
        "id": "KokDncd6OS0Q"
      },
      "execution_count": null,
      "outputs": []
    },
    {
      "cell_type": "code",
      "source": [
        "df_std_train, df_std_test = train_test_split(df_std,random_state=999,test_size=0.3)\n",
        "df_std_train_X = df_std_train.loc[:, 'Agriculture':'Public_Administration']\n",
        "df_std_train_Y = df_std_train['PopCategory']\n",
        "df_std_test_X = df_std_test.loc[:, 'Agriculture':'Public_Administration']\n",
        "df_std_test_Y = df_std_test['PopCategory']\n",
        "\n",
        "df_std2_train, df_std2_test = train_test_split(df_std2,random_state=999,test_size=0.3)\n",
        "df_std2_train_X = df_std2_train.loc[:, 'Agriculture':'Public_Administration']\n",
        "df_std2_train_Y = df_std2_train['incomeCategory']\n",
        "df_std2_test_X = df_std2_test.loc[:, 'Agriculture':'Public_Administration']\n",
        "df_std2_test_Y = df_std2_test['incomeCategory']\n",
        "\n",
        "df_std3_train, df_std3_test = train_test_split(df_std3,random_state=999,test_size=0.3)\n",
        "df_std3_train_X = df_std3_train.loc[:, 'Agriculture':'Public_Administration']\n",
        "df_std3_train_Y = df_std3_train['empCategory']\n",
        "df_std3_test_X = df_std3_test.loc[:, 'Agriculture':'Public_Administration']\n",
        "df_std3_test_Y = df_std3_test['empCategory']"
      ],
      "metadata": {
        "id": "s9RbMel9OSye"
      },
      "execution_count": null,
      "outputs": []
    },
    {
      "cell_type": "code",
      "source": [
        "param_grid = {'n_estimators':range(1,51,5),'max_leaf_nodes': range(2,10)}\n",
        "rf = RandomForestClassifier()\n",
        "gs = GridSearchCV(rf,param_grid=param_grid)\n",
        "rs = gs.fit(df_std_train_X,df_std_train_Y)\n",
        "print(rs.best_params_)"
      ],
      "metadata": {
        "colab": {
          "base_uri": "https://localhost:8080/"
        },
        "id": "WfN_ZD-hOSwX",
        "outputId": "a6d0bade-320d-4f67-92d6-68c7272b78ee"
      },
      "execution_count": null,
      "outputs": [
        {
          "output_type": "stream",
          "name": "stdout",
          "text": [
            "{'max_leaf_nodes': 8, 'n_estimators': 11}\n"
          ]
        }
      ]
    },
    {
      "cell_type": "code",
      "source": [
        "rf = RandomForestClassifier(n_estimators=6,max_leaf_nodes=7)\n",
        "rf.fit(df_std_train_X,df_std_train_Y)"
      ],
      "metadata": {
        "colab": {
          "base_uri": "https://localhost:8080/"
        },
        "id": "pzv-qq_wOSuk",
        "outputId": "905285f4-1290-4ebb-99e7-41fc9f2cfce7"
      },
      "execution_count": null,
      "outputs": [
        {
          "output_type": "execute_result",
          "data": {
            "text/plain": [
              "RandomForestClassifier(max_leaf_nodes=7, n_estimators=6)"
            ]
          },
          "metadata": {},
          "execution_count": 56
        }
      ]
    },
    {
      "cell_type": "code",
      "source": [
        "predicted_train = rf.predict(df_std_train_X)\n",
        "print(\"In sample:\",(df_std_train_Y.reset_index(drop=True)==predicted_train).mean())\n",
        "\n",
        "predicted_test = rf.predict(df_std_test_X)\n",
        "print(\"Out of sample:\",(df_std_test_Y.reset_index(drop=True)==predicted_test).mean())"
      ],
      "metadata": {
        "colab": {
          "base_uri": "https://localhost:8080/"
        },
        "id": "2rJt_6lDOSsb",
        "outputId": "790b1687-90c0-48d0-e1e7-a83a87422eca"
      },
      "execution_count": null,
      "outputs": [
        {
          "output_type": "stream",
          "name": "stdout",
          "text": [
            "In sample: 0.8015267175572519\n",
            "Out of sample: 0.7876106194690266\n"
          ]
        }
      ]
    },
    {
      "cell_type": "code",
      "source": [
        "param_grid = {'n_estimators':range(1,51,5),'max_leaf_nodes': range(2,10)}\n",
        "rf = RandomForestClassifier()\n",
        "gs = GridSearchCV(rf,param_grid=param_grid)\n",
        "rs = gs.fit(df_std2_train_X,df_std2_train_Y)\n",
        "print(rs.best_params_)"
      ],
      "metadata": {
        "colab": {
          "base_uri": "https://localhost:8080/"
        },
        "id": "dXyI4z2JOSqy",
        "outputId": "633a6e41-7d45-4db4-a3e4-ac4a33b049c3"
      },
      "execution_count": null,
      "outputs": [
        {
          "output_type": "stream",
          "name": "stdout",
          "text": [
            "{'max_leaf_nodes': 2, 'n_estimators': 1}\n"
          ]
        }
      ]
    },
    {
      "cell_type": "code",
      "source": [
        "rf = RandomForestClassifier(n_estimators=1,max_leaf_nodes=2)\n",
        "rf.fit(df_std2_train_X,df_std2_train_Y)"
      ],
      "metadata": {
        "colab": {
          "base_uri": "https://localhost:8080/"
        },
        "id": "fU5rvpmrOSo1",
        "outputId": "b3fd338f-1e57-4377-ae08-50ccad47a86d"
      },
      "execution_count": null,
      "outputs": [
        {
          "output_type": "execute_result",
          "data": {
            "text/plain": [
              "RandomForestClassifier(max_leaf_nodes=2, n_estimators=1)"
            ]
          },
          "metadata": {},
          "execution_count": 59
        }
      ]
    },
    {
      "cell_type": "code",
      "source": [
        "predicted_train = rf.predict(df_std2_train_X)\n",
        "print(\"In sample:\",(df_std2_train_Y.reset_index(drop=True)==predicted_train).mean())\n",
        "\n",
        "predicted_test = rf.predict(df_std2_test_X)\n",
        "print(\"Out of sample:\",(df_std2_test_Y.reset_index(drop=True)==predicted_test).mean())"
      ],
      "metadata": {
        "colab": {
          "base_uri": "https://localhost:8080/"
        },
        "id": "kgJgtgiTOSmx",
        "outputId": "f7b9dc20-85f5-4b7f-e038-e5acb4a50845"
      },
      "execution_count": null,
      "outputs": [
        {
          "output_type": "stream",
          "name": "stdout",
          "text": [
            "In sample: 0.9656488549618321\n",
            "Out of sample: 0.9734513274336283\n"
          ]
        }
      ]
    },
    {
      "cell_type": "code",
      "source": [
        "param_grid = {'n_estimators':range(1,51,5),'max_leaf_nodes': range(2,10)}\n",
        "rf = RandomForestClassifier()\n",
        "gs = GridSearchCV(rf,param_grid=param_grid)\n",
        "rs = gs.fit(df_std3_train_X,df_std3_train_Y)\n",
        "print(rs.best_params_)"
      ],
      "metadata": {
        "colab": {
          "base_uri": "https://localhost:8080/"
        },
        "id": "IJbxVlPxOSk5",
        "outputId": "31a167c7-1afd-46b8-9be2-648f22475602"
      },
      "execution_count": null,
      "outputs": [
        {
          "output_type": "stream",
          "name": "stdout",
          "text": [
            "{'max_leaf_nodes': 2, 'n_estimators': 1}\n"
          ]
        }
      ]
    },
    {
      "cell_type": "code",
      "source": [
        "rf = RandomForestClassifier(n_estimators=6,max_leaf_nodes=5)\n",
        "rf.fit(df_std3_train_X,df_std3_train_Y)"
      ],
      "metadata": {
        "colab": {
          "base_uri": "https://localhost:8080/"
        },
        "id": "AX95yGh8T_9C",
        "outputId": "f2d47638-82e7-4d86-de5c-297045e8abe0"
      },
      "execution_count": null,
      "outputs": [
        {
          "output_type": "execute_result",
          "data": {
            "text/plain": [
              "RandomForestClassifier(max_leaf_nodes=5, n_estimators=6)"
            ]
          },
          "metadata": {},
          "execution_count": 62
        }
      ]
    },
    {
      "cell_type": "code",
      "source": [
        "predicted_train = rf.predict(df_std3_train_X)\n",
        "print(\"In sample:\",(df_std3_train_Y.reset_index(drop=True)==predicted_train).mean())\n",
        "\n",
        "predicted_test = rf.predict(df_std3_test_X)\n",
        "print(\"Out of sample:\",(df_std3_test_Y.reset_index(drop=True)==predicted_test).mean())"
      ],
      "metadata": {
        "colab": {
          "base_uri": "https://localhost:8080/"
        },
        "id": "UxaV2NicT_7A",
        "outputId": "4d794712-a312-40f5-e7d3-2cfe9baf993a"
      },
      "execution_count": null,
      "outputs": [
        {
          "output_type": "stream",
          "name": "stdout",
          "text": [
            "In sample: 0.9431818181818182\n",
            "Out of sample: 0.9824561403508771\n"
          ]
        }
      ]
    },
    {
      "cell_type": "code",
      "source": [],
      "metadata": {
        "id": "NvPMbkVjT_5I"
      },
      "execution_count": null,
      "outputs": []
    },
    {
      "cell_type": "markdown",
      "source": [],
      "metadata": {
        "id": "08-qdmw9VW9O"
      }
    },
    {
      "cell_type": "code",
      "source": [
        "# med with 3 different classifications based on the distribution of the variables"
      ],
      "metadata": {
        "id": "AE7vs2C4T_3U"
      },
      "execution_count": null,
      "outputs": []
    },
    {
      "cell_type": "code",
      "source": [
        "pop_data['PopCategory'] = -100\n",
        "for i in range(len(pop_data)):\n",
        "  if ((pop_data['PopChange'][i] >= 0) & (pop_data['PopChange'][i] <= 1)):\n",
        "    pop_data['PopCategory'][i] = \"Small Increase\"\n",
        "  elif ((pop_data['PopChange'][i] > 1)):\n",
        "    pop_data['PopCategory'][i] = \"Large Increase\"\n",
        "  elif (pop_data['PopChange'][i] < 0):\n",
        "    pop_data['PopCategory'][i] = \"Decrease\""
      ],
      "metadata": {
        "colab": {
          "base_uri": "https://localhost:8080/"
        },
        "id": "tXV2a93PICWA",
        "outputId": "cb1756f9-5bac-4b3c-990f-35867b37973c"
      },
      "execution_count": null,
      "outputs": [
        {
          "output_type": "stream",
          "name": "stderr",
          "text": [
            "/usr/local/lib/python3.7/dist-packages/ipykernel_launcher.py:4: SettingWithCopyWarning: \n",
            "A value is trying to be set on a copy of a slice from a DataFrame\n",
            "\n",
            "See the caveats in the documentation: https://pandas.pydata.org/pandas-docs/stable/user_guide/indexing.html#returning-a-view-versus-a-copy\n",
            "  after removing the cwd from sys.path.\n",
            "/usr/local/lib/python3.7/dist-packages/pandas/core/indexing.py:1732: SettingWithCopyWarning: \n",
            "A value is trying to be set on a copy of a slice from a DataFrame\n",
            "\n",
            "See the caveats in the documentation: https://pandas.pydata.org/pandas-docs/stable/user_guide/indexing.html#returning-a-view-versus-a-copy\n",
            "  self._setitem_single_block(indexer, value, name)\n"
          ]
        }
      ]
    },
    {
      "cell_type": "code",
      "source": [
        "income_data['incomeCategory'] = -100\n",
        "for i in range(len(income_data)):\n",
        "  if ((income_data['IncomeChange'][i] >= 0) & (income_data['IncomeChange'][i] <= 1)):\n",
        "    income_data['incomeCategory'][i] = \"Small Increase\"\n",
        "  elif ((income_data['IncomeChange'][i] > 1)):\n",
        "    income_data['incomeCategory'][i] = \"Large Increase\"\n",
        "  elif (income_data['IncomeChange'][i] < 0):\n",
        "    income_data['incomeCategory'][i] = \"Decrease\""
      ],
      "metadata": {
        "colab": {
          "base_uri": "https://localhost:8080/"
        },
        "id": "VFjY-iB5IDNT",
        "outputId": "808e7aa9-9ff1-4c58-b7c5-1937c4b9dcd6"
      },
      "execution_count": null,
      "outputs": [
        {
          "output_type": "stream",
          "name": "stderr",
          "text": [
            "/usr/local/lib/python3.7/dist-packages/ipykernel_launcher.py:4: SettingWithCopyWarning: \n",
            "A value is trying to be set on a copy of a slice from a DataFrame\n",
            "\n",
            "See the caveats in the documentation: https://pandas.pydata.org/pandas-docs/stable/user_guide/indexing.html#returning-a-view-versus-a-copy\n",
            "  after removing the cwd from sys.path.\n"
          ]
        }
      ]
    },
    {
      "cell_type": "code",
      "source": [
        "emp_data['empCategory'] = -100\n",
        "for i in range(len(emp_data)):\n",
        "  if ((emp_data['EmpChange'][i] >= 0) & (emp_data['EmpChange'][i] <= 1)):\n",
        "    emp_data['empCategory'][i] = \"Small Increase\"\n",
        "  elif ((emp_data['EmpChange'][i] > 1)):\n",
        "    emp_data['empCategory'][i] = \"Large Increase\"\n",
        "  elif (emp_data['EmpChange'][i] < 0):\n",
        "    emp_data['empCategory'][i] = \"Decrease\""
      ],
      "metadata": {
        "colab": {
          "base_uri": "https://localhost:8080/"
        },
        "id": "lkF-JfFoIDLg",
        "outputId": "8444afac-cf04-451f-d0aa-90bc2be54939"
      },
      "execution_count": null,
      "outputs": [
        {
          "output_type": "stream",
          "name": "stderr",
          "text": [
            "/usr/local/lib/python3.7/dist-packages/ipykernel_launcher.py:4: SettingWithCopyWarning: \n",
            "A value is trying to be set on a copy of a slice from a DataFrame\n",
            "\n",
            "See the caveats in the documentation: https://pandas.pydata.org/pandas-docs/stable/user_guide/indexing.html#returning-a-view-versus-a-copy\n",
            "  after removing the cwd from sys.path.\n"
          ]
        }
      ]
    },
    {
      "cell_type": "code",
      "source": [
        "df_std = msa_data.merge(pop_data[['msaID','PopChange', 'PopCategory']], left_on='MSA',right_on='msaID').drop('msaID',axis=1)\n",
        "df_std2 = msa_data.merge(income_data[['msaID','IncomeChange', 'incomeCategory']], left_on='MSA',right_on='msaID').drop('msaID',axis=1)\n",
        "df_std3 = msa_data.merge(emp_data[['msaID','EmpChange', 'empCategory']], left_on='MSA',right_on='msaID').drop('msaID',axis=1)"
      ],
      "metadata": {
        "id": "eT3ZjFzTIDJ4"
      },
      "execution_count": null,
      "outputs": []
    },
    {
      "cell_type": "code",
      "source": [
        "df_std_train, df_std_test = train_test_split(df_std,random_state=999,test_size=0.3)\n",
        "df_std_train_X = df_std_train.loc[:, 'Agriculture':'Public_Administration']\n",
        "df_std_train_Y = df_std_train['PopCategory']\n",
        "df_std_test_X = df_std_test.loc[:, 'Agriculture':'Public_Administration']\n",
        "df_std_test_Y = df_std_test['PopCategory']\n",
        "\n",
        "df_std2_train, df_std2_test = train_test_split(df_std2,random_state=999,test_size=0.3)\n",
        "df_std2_train_X = df_std2_train.loc[:, 'Agriculture':'Public_Administration']\n",
        "df_std2_train_Y = df_std2_train['incomeCategory']\n",
        "df_std2_test_X = df_std2_test.loc[:, 'Agriculture':'Public_Administration']\n",
        "df_std2_test_Y = df_std2_test['incomeCategory']\n",
        "\n",
        "df_std3_train, df_std3_test = train_test_split(df_std3,random_state=999,test_size=0.3)\n",
        "df_std3_train_X = df_std3_train.loc[:, 'Agriculture':'Public_Administration']\n",
        "df_std3_train_Y = df_std3_train['empCategory']\n",
        "df_std3_test_X = df_std3_test.loc[:, 'Agriculture':'Public_Administration']\n",
        "df_std3_test_Y = df_std3_test['empCategory']"
      ],
      "metadata": {
        "id": "6shHL-pFIDH5"
      },
      "execution_count": null,
      "outputs": []
    },
    {
      "cell_type": "code",
      "source": [
        "param_grid = {'n_estimators':range(1,51,5),'max_leaf_nodes': range(2,10)}\n",
        "rf = RandomForestClassifier()\n",
        "gs = GridSearchCV(rf,param_grid=param_grid)\n",
        "rs = gs.fit(df_std_train_X,df_std_train_Y)\n",
        "print(rs.best_params_)"
      ],
      "metadata": {
        "colab": {
          "base_uri": "https://localhost:8080/"
        },
        "id": "BCazatroIDGM",
        "outputId": "ed050a69-67ca-41e7-e136-17171be6762f"
      },
      "execution_count": null,
      "outputs": [
        {
          "output_type": "stream",
          "name": "stdout",
          "text": [
            "{'max_leaf_nodes': 9, 'n_estimators': 26}\n"
          ]
        }
      ]
    },
    {
      "cell_type": "code",
      "source": [
        "rf = RandomForestClassifier(n_estimators=rs.best_params_['n_estimators'],max_leaf_nodes=rs.best_params_['max_leaf_nodes'])\n",
        "rf.fit(df_std_train_X,df_std_train_Y)\n",
        "plt.barh(df_std_train_X.columns, rf.feature_importances_)"
      ],
      "metadata": {
        "colab": {
          "base_uri": "https://localhost:8080/",
          "height": 283
        },
        "id": "XJc7uphbIU1S",
        "outputId": "b18be04c-838b-4948-bd4d-aabbd4115bad"
      },
      "execution_count": null,
      "outputs": [
        {
          "output_type": "execute_result",
          "data": {
            "text/plain": [
              "<BarContainer object of 20 artists>"
            ]
          },
          "metadata": {},
          "execution_count": 71
        },
        {
          "output_type": "display_data",
          "data": {
            "text/plain": [
              "<Figure size 432x288 with 1 Axes>"
            ],
            "image/png": "[encoded data removed]"
          },
          "metadata": {
            "needs_background": "light"
          }
        }
      ]
    },
    {
      "cell_type": "code",
      "source": [
        "predicted_train = rf.predict(df_std_train_X)\n",
        "print(\"In sample:\",(df_std_train_Y.reset_index(drop=True)==predicted_train).mean())\n",
        "\n",
        "predicted_test = rf.predict(df_std_test_X)\n",
        "print(\"Out of sample:\",(df_std_test_Y.reset_index(drop=True)==predicted_test).mean())"
      ],
      "metadata": {
        "colab": {
          "base_uri": "https://localhost:8080/"
        },
        "id": "Mxypcqx0IUzI",
        "outputId": "ee8cc8bd-95eb-41e6-fa88-ddbaf28cee8c"
      },
      "execution_count": null,
      "outputs": [
        {
          "output_type": "stream",
          "name": "stdout",
          "text": [
            "In sample: 0.6755725190839694\n",
            "Out of sample: 0.584070796460177\n"
          ]
        }
      ]
    },
    {
      "cell_type": "code",
      "source": [
        "param_grid = {'n_estimators':range(1,51,5),'max_leaf_nodes': range(2,10)}\n",
        "rf = RandomForestClassifier()\n",
        "gs = GridSearchCV(rf,param_grid=param_grid)\n",
        "rs = gs.fit(df_std2_train_X,df_std2_train_Y)\n",
        "print(rs.best_params_)"
      ],
      "metadata": {
        "colab": {
          "base_uri": "https://localhost:8080/"
        },
        "id": "h3Kn1kP4IUwy",
        "outputId": "f327c43e-de0e-41f0-cf8d-531a60677307"
      },
      "execution_count": null,
      "outputs": [
        {
          "output_type": "stream",
          "name": "stdout",
          "text": [
            "{'max_leaf_nodes': 6, 'n_estimators': 26}\n"
          ]
        }
      ]
    },
    {
      "cell_type": "code",
      "source": [
        "rf = RandomForestClassifier(n_estimators=rs.best_params_['n_estimators'],max_leaf_nodes=rs.best_params_['max_leaf_nodes'])\n",
        "rf.fit(df_std2_train_X,df_std2_train_Y)\n",
        "rf.fit(df_std_train_X,df_std_train_Y)\n",
        "plt.barh(df_std_train_X.columns, rf.feature_importances_)"
      ],
      "metadata": {
        "colab": {
          "base_uri": "https://localhost:8080/",
          "height": 283
        },
        "id": "xoOgJfGSIUum",
        "outputId": "ba3004a5-c2a7-420c-d672-602c30e1d495"
      },
      "execution_count": null,
      "outputs": [
        {
          "output_type": "execute_result",
          "data": {
            "text/plain": [
              "<BarContainer object of 20 artists>"
            ]
          },
          "metadata": {},
          "execution_count": 74
        },
        {
          "output_type": "display_data",
          "data": {
            "text/plain": [
              "<Figure size 432x288 with 1 Axes>"
            ],
            "image/png": "[encoded data removed]"
          },
          "metadata": {
            "needs_background": "light"
          }
        }
      ]
    },
    {
      "cell_type": "code",
      "source": [
        "predicted_train = rf.predict(df_std2_train_X)\n",
        "print(\"In sample:\",(df_std2_train_Y.reset_index(drop=True)==predicted_train).mean())\n",
        "\n",
        "predicted_test = rf.predict(df_std2_test_X)\n",
        "print(\"Out of sample:\",(df_std2_test_Y.reset_index(drop=True)==predicted_test).mean())"
      ],
      "metadata": {
        "colab": {
          "base_uri": "https://localhost:8080/"
        },
        "id": "6N2N9FqOIUsh",
        "outputId": "0bf9634d-fb6f-4ce3-cd9a-09acc70e2df3"
      },
      "execution_count": null,
      "outputs": [
        {
          "output_type": "stream",
          "name": "stdout",
          "text": [
            "In sample: 0.40076335877862596\n",
            "Out of sample: 0.4247787610619469\n"
          ]
        }
      ]
    },
    {
      "cell_type": "code",
      "source": [
        "param_grid = {'n_estimators':range(1,51,5),'max_leaf_nodes': range(2,10)}\n",
        "rf = RandomForestClassifier()\n",
        "gs = GridSearchCV(rf,param_grid=param_grid)\n",
        "rs = gs.fit(df_std3_train_X,df_std3_train_Y)\n",
        "print(rs.best_params_)"
      ],
      "metadata": {
        "colab": {
          "base_uri": "https://localhost:8080/"
        },
        "id": "R53TQ7-7IUqf",
        "outputId": "c3fd21d5-29fd-43a4-ad62-d0704c2645d0"
      },
      "execution_count": null,
      "outputs": [
        {
          "output_type": "stream",
          "name": "stdout",
          "text": [
            "{'max_leaf_nodes': 7, 'n_estimators': 11}\n"
          ]
        }
      ]
    },
    {
      "cell_type": "code",
      "source": [
        "rf = RandomForestClassifier(n_estimators=rs.best_params_['n_estimators'],max_leaf_nodes=rs.best_params_['max_leaf_nodes'])\n",
        "rf.fit(df_std3_train_X,df_std3_train_Y)\n",
        "rf.fit(df_std_train_X,df_std_train_Y)\n",
        "plt.barh(df_std_train_X.columns, rf.feature_importances_)"
      ],
      "metadata": {
        "colab": {
          "base_uri": "https://localhost:8080/",
          "height": 283
        },
        "id": "QZ_SoXFaIUoZ",
        "outputId": "559ce367-15dc-46d2-f839-dad8dd327baf"
      },
      "execution_count": null,
      "outputs": [
        {
          "output_type": "execute_result",
          "data": {
            "text/plain": [
              "<BarContainer object of 20 artists>"
            ]
          },
          "metadata": {},
          "execution_count": 77
        },
        {
          "output_type": "display_data",
          "data": {
            "text/plain": [
              "<Figure size 432x288 with 1 Axes>"
            ],
            "image/png": "[encoded data removed]"
          },
          "metadata": {
            "needs_background": "light"
          }
        }
      ]
    },
    {
      "cell_type": "code",
      "source": [
        "predicted_train = rf.predict(df_std3_train_X)\n",
        "print(\"In sample:\",(df_std3_train_Y.reset_index(drop=True)==predicted_train).mean())\n",
        "\n",
        "predicted_test = rf.predict(df_std3_test_X)\n",
        "print(\"Out of sample:\",(df_std3_test_Y.reset_index(drop=True)==predicted_test).mean())"
      ],
      "metadata": {
        "colab": {
          "base_uri": "https://localhost:8080/"
        },
        "id": "uWfErVGhIUmU",
        "outputId": "27026872-af8f-4ef1-8bba-441b48a1160a"
      },
      "execution_count": null,
      "outputs": [
        {
          "output_type": "stream",
          "name": "stdout",
          "text": [
            "In sample: 0.4053030303030303\n",
            "Out of sample: 0.4298245614035088\n"
          ]
        }
      ]
    },
    {
      "cell_type": "code",
      "source": [],
      "metadata": {
        "id": "XQNuPbd_IUiJ"
      },
      "execution_count": null,
      "outputs": []
    },
    {
      "cell_type": "code",
      "source": [],
      "metadata": {
        "id": "tA2JxLrOIUgG"
      },
      "execution_count": null,
      "outputs": []
    },
    {
      "cell_type": "code",
      "source": [],
      "metadata": {
        "id": "Og51P_6pIUds"
      },
      "execution_count": null,
      "outputs": []
    },
    {
      "cell_type": "code",
      "source": [],
      "metadata": {
        "id": "UMD6d6lZIUbj"
      },
      "execution_count": null,
      "outputs": []
    }
  ]
}