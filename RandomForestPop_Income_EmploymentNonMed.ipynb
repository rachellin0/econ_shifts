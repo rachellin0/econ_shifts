{
  "nbformat": 4,
  "nbformat_minor": 0,
  "metadata": {
    "colab": {
      "provenance": []
    },
    "kernelspec": {
      "name": "python3",
      "display_name": "Python 3"
    },
    "language_info": {
      "name": "python"
    }
  },
  "cells": [
    {
      "cell_type": "code",
      "source": [
        "from google.colab import drive\n",
        "drive.mount('/content/drive')"
      ],
      "metadata": {
        "colab": {
          "base_uri": "https://localhost:8080/"
        },
        "id": "oA7be1_g8l4o",
        "outputId": "d9c7bab4-7fd4-40b8-be53-876943e7d828"
      },
      "execution_count": null,
      "outputs": [
        {
          "output_type": "stream",
          "name": "stdout",
          "text": [
            "Drive already mounted at /content/drive; to attempt to forcibly remount, call drive.mount(\"/content/drive\", force_remount=True).\n"
          ]
        }
      ]
    },
    {
      "cell_type": "code",
      "source": [
        "# for column in df1.columns:\n",
        "#   if column != 'MSA' and column != 'PopChange':\n",
        "#     df1[column] = df1[column]>=df1[column].median()"
      ],
      "metadata": {
        "id": "hMLDsPbeRo3v"
      },
      "execution_count": null,
      "outputs": []
    },
    {
      "cell_type": "code",
      "source": [
        "import numpy as np\n",
        "import pandas as pd\n",
        "from sklearn import svm, metrics\n",
        "import matplotlib.pyplot as plt\n",
        "from sklearn.model_selection import train_test_split\n",
        "from sklearn.ensemble import RandomForestRegressor\n",
        "from sklearn.ensemble import RandomForestClassifier\n",
        "from sklearn.model_selection import GridSearchCV"
      ],
      "metadata": {
        "id": "rLy2t0HJ8m9g"
      },
      "execution_count": null,
      "outputs": []
    },
    {
      "cell_type": "code",
      "source": [
        "#Load Data\n",
        "msa_data = pd.read_csv('/content/drive/MyDrive/MLC Final Project/4_MSA_LQ.csv')\n",
        "pop_data = pd.read_csv('/content/drive/MyDrive/MLC Final Project/1_PopChange_10_16.csv')\n",
        "income_data = pd.read_csv('/content/drive/MyDrive/MLC Final Project/2_Income_Incr_10_16.csv')\n",
        "emp_data = pd.read_csv('/content/drive/MyDrive/MLC Final Project/3_Emp_Incr_10_16.csv')"
      ],
      "metadata": {
        "id": "NZc0WmKG9lqI"
      },
      "execution_count": null,
      "outputs": []
    },
    {
      "cell_type": "code",
      "source": [
        "#RFC with to MSA classification, and 5 category classifications"
      ],
      "metadata": {
        "id": "-9GUy2QpLWie"
      },
      "execution_count": null,
      "outputs": []
    },
    {
      "cell_type": "code",
      "source": [
        "pop_data['PopCategory'] = -100\n",
        "for i in range(len(pop_data)):\n",
        "  if ((pop_data['PopChange'][i] <= 0.5) & (pop_data['PopChange'][i] > -0.5)):\n",
        "    pop_data['PopCategory'][i] = 0\n",
        "  elif ((pop_data['PopChange'][i] > 0.5) & (pop_data['PopChange'][i] <= 1)):\n",
        "    pop_data['PopCategory'][i] = 1\n",
        "  elif (pop_data['PopChange'][i] > 1):\n",
        "    pop_data['PopCategory'][i] = 2\n",
        "  elif ((pop_data['PopChange'][i] < -0.5) & (pop_data['PopChange'][i] >= -1)):\n",
        "    pop_data['PopCategory'][i] = -1\n",
        "  elif (pop_data['PopChange'][i] < -1):\n",
        "    pop_data['PopCategory'][i] = -2"
      ],
      "metadata": {
        "colab": {
          "base_uri": "https://localhost:8080/"
        },
        "id": "crhkmtDCEn8Q",
        "outputId": "6c179890-1d74-4a61-c744-0140dd03e5ac"
      },
      "execution_count": null,
      "outputs": [
        {
          "output_type": "stream",
          "name": "stderr",
          "text": [
            "/usr/local/lib/python3.7/dist-packages/ipykernel_launcher.py:6: SettingWithCopyWarning: \n",
            "A value is trying to be set on a copy of a slice from a DataFrame\n",
            "\n",
            "See the caveats in the documentation: https://pandas.pydata.org/pandas-docs/stable/user_guide/indexing.html#returning-a-view-versus-a-copy\n",
            "  \n",
            "/usr/local/lib/python3.7/dist-packages/ipykernel_launcher.py:4: SettingWithCopyWarning: \n",
            "A value is trying to be set on a copy of a slice from a DataFrame\n",
            "\n",
            "See the caveats in the documentation: https://pandas.pydata.org/pandas-docs/stable/user_guide/indexing.html#returning-a-view-versus-a-copy\n",
            "  after removing the cwd from sys.path.\n",
            "/usr/local/lib/python3.7/dist-packages/ipykernel_launcher.py:10: SettingWithCopyWarning: \n",
            "A value is trying to be set on a copy of a slice from a DataFrame\n",
            "\n",
            "See the caveats in the documentation: https://pandas.pydata.org/pandas-docs/stable/user_guide/indexing.html#returning-a-view-versus-a-copy\n",
            "  # Remove the CWD from sys.path while we load stuff.\n",
            "/usr/local/lib/python3.7/dist-packages/ipykernel_launcher.py:8: SettingWithCopyWarning: \n",
            "A value is trying to be set on a copy of a slice from a DataFrame\n",
            "\n",
            "See the caveats in the documentation: https://pandas.pydata.org/pandas-docs/stable/user_guide/indexing.html#returning-a-view-versus-a-copy\n",
            "  \n",
            "/usr/local/lib/python3.7/dist-packages/ipykernel_launcher.py:12: SettingWithCopyWarning: \n",
            "A value is trying to be set on a copy of a slice from a DataFrame\n",
            "\n",
            "See the caveats in the documentation: https://pandas.pydata.org/pandas-docs/stable/user_guide/indexing.html#returning-a-view-versus-a-copy\n",
            "  if sys.path[0] == '':\n"
          ]
        }
      ]
    },
    {
      "cell_type": "code",
      "source": [
        "income_data['incomeCategory'] = -100\n",
        "for i in range(len(income_data)):\n",
        "  if ((income_data['IncomeChange'][i] <= 0.5) & (income_data['IncomeChange'][i] > -0.5)):\n",
        "    income_data['incomeCategory'][i] = 0\n",
        "  elif ((income_data['IncomeChange'][i] > 0.5) & (income_data['IncomeChange'][i] <= 1)):\n",
        "    income_data['incomeCategory'][i] = 1\n",
        "  elif (income_data['IncomeChange'][i] > 1):\n",
        "    income_data['incomeCategory'][i] = 2\n",
        "  elif ((income_data['IncomeChange'][i] < -0.5) & (income_data['IncomeChange'][i] >= -1)):\n",
        "    income_data['incomeCategory'][i] = -1\n",
        "  elif (income_data['IncomeChange'][i] < -1):\n",
        "    income_data['incomeCategory'][i] = -2"
      ],
      "metadata": {
        "colab": {
          "base_uri": "https://localhost:8080/"
        },
        "id": "AiI-eUF4EsEj",
        "outputId": "57e0ab65-bb96-47fb-f03b-6d52a4d537d4"
      },
      "execution_count": null,
      "outputs": [
        {
          "output_type": "stream",
          "name": "stderr",
          "text": [
            "/usr/local/lib/python3.7/dist-packages/ipykernel_launcher.py:6: SettingWithCopyWarning: \n",
            "A value is trying to be set on a copy of a slice from a DataFrame\n",
            "\n",
            "See the caveats in the documentation: https://pandas.pydata.org/pandas-docs/stable/user_guide/indexing.html#returning-a-view-versus-a-copy\n",
            "  \n",
            "/usr/local/lib/python3.7/dist-packages/ipykernel_launcher.py:8: SettingWithCopyWarning: \n",
            "A value is trying to be set on a copy of a slice from a DataFrame\n",
            "\n",
            "See the caveats in the documentation: https://pandas.pydata.org/pandas-docs/stable/user_guide/indexing.html#returning-a-view-versus-a-copy\n",
            "  \n",
            "/usr/local/lib/python3.7/dist-packages/ipykernel_launcher.py:4: SettingWithCopyWarning: \n",
            "A value is trying to be set on a copy of a slice from a DataFrame\n",
            "\n",
            "See the caveats in the documentation: https://pandas.pydata.org/pandas-docs/stable/user_guide/indexing.html#returning-a-view-versus-a-copy\n",
            "  after removing the cwd from sys.path.\n",
            "/usr/local/lib/python3.7/dist-packages/ipykernel_launcher.py:10: SettingWithCopyWarning: \n",
            "A value is trying to be set on a copy of a slice from a DataFrame\n",
            "\n",
            "See the caveats in the documentation: https://pandas.pydata.org/pandas-docs/stable/user_guide/indexing.html#returning-a-view-versus-a-copy\n",
            "  # Remove the CWD from sys.path while we load stuff.\n"
          ]
        }
      ]
    },
    {
      "cell_type": "code",
      "source": [
        "emp_data['empCategory'] = -100\n",
        "for i in range(len(emp_data)):\n",
        "  if ((emp_data['EmpChange'][i] <= 0.5) & (emp_data['EmpChange'][i] > -0.5)):\n",
        "    emp_data['empCategory'][i] = 0\n",
        "  elif ((emp_data['EmpChange'][i] > 0.5) & (emp_data['EmpChange'][i] <= 1)):\n",
        "    emp_data['empCategory'][i] = 1\n",
        "  elif (emp_data['EmpChange'][i] > 1):\n",
        "    emp_data['empCategory'][i] = 2\n",
        "  elif ((emp_data['EmpChange'][i] < -0.5) & (emp_data['EmpChange'][i] >= -1)):\n",
        "    emp_data['empCategory'][i] = -1\n",
        "  elif (emp_data['EmpChange'][i] < -1):\n",
        "    emp_data['empCategory'][i] = -2"
      ],
      "metadata": {
        "colab": {
          "base_uri": "https://localhost:8080/"
        },
        "id": "wrvYNpimEwLe",
        "outputId": "bb425e34-965c-4fa5-cfe2-5e6c7ea05a45"
      },
      "execution_count": null,
      "outputs": [
        {
          "output_type": "stream",
          "name": "stderr",
          "text": [
            "/usr/local/lib/python3.7/dist-packages/ipykernel_launcher.py:4: SettingWithCopyWarning: \n",
            "A value is trying to be set on a copy of a slice from a DataFrame\n",
            "\n",
            "See the caveats in the documentation: https://pandas.pydata.org/pandas-docs/stable/user_guide/indexing.html#returning-a-view-versus-a-copy\n",
            "  after removing the cwd from sys.path.\n",
            "/usr/local/lib/python3.7/dist-packages/ipykernel_launcher.py:6: SettingWithCopyWarning: \n",
            "A value is trying to be set on a copy of a slice from a DataFrame\n",
            "\n",
            "See the caveats in the documentation: https://pandas.pydata.org/pandas-docs/stable/user_guide/indexing.html#returning-a-view-versus-a-copy\n",
            "  \n",
            "/usr/local/lib/python3.7/dist-packages/ipykernel_launcher.py:8: SettingWithCopyWarning: \n",
            "A value is trying to be set on a copy of a slice from a DataFrame\n",
            "\n",
            "See the caveats in the documentation: https://pandas.pydata.org/pandas-docs/stable/user_guide/indexing.html#returning-a-view-versus-a-copy\n",
            "  \n",
            "/usr/local/lib/python3.7/dist-packages/ipykernel_launcher.py:10: SettingWithCopyWarning: \n",
            "A value is trying to be set on a copy of a slice from a DataFrame\n",
            "\n",
            "See the caveats in the documentation: https://pandas.pydata.org/pandas-docs/stable/user_guide/indexing.html#returning-a-view-versus-a-copy\n",
            "  # Remove the CWD from sys.path while we load stuff.\n"
          ]
        }
      ]
    },
    {
      "cell_type": "code",
      "source": [
        "df_std = msa_data.merge(pop_data[['msaID','PopChange', 'PopCategory']], left_on='MSA',right_on='msaID').drop('msaID',axis=1)\n",
        "df_std2 = msa_data.merge(income_data[['msaID','IncomeChange', 'incomeCategory']], left_on='MSA',right_on='msaID').drop('msaID',axis=1)\n",
        "df_std3 = msa_data.merge(emp_data[['msaID','EmpChange', 'empCategory']], left_on='MSA',right_on='msaID').drop('msaID',axis=1)"
      ],
      "metadata": {
        "id": "4NNmMZbf9nVU"
      },
      "execution_count": null,
      "outputs": []
    },
    {
      "cell_type": "code",
      "source": [
        "df_std_train, df_std_test = train_test_split(df_std,random_state=999,test_size=0.3)\n",
        "df_std_train_X = df_std_train.loc[:, 'Agriculture':'Public_Administration']\n",
        "df_std_train_Y = df_std_train['PopCategory']\n",
        "df_std_test_X = df_std_test.loc[:, 'Agriculture':'Public_Administration']\n",
        "df_std_test_Y = df_std_test['PopCategory']\n",
        "\n",
        "df_std2_train, df_std2_test = train_test_split(df_std2,random_state=999,test_size=0.3)\n",
        "df_std2_train_X = df_std2_train.loc[:, 'Agriculture':'Public_Administration']\n",
        "df_std2_train_Y = df_std2_train['incomeCategory']\n",
        "df_std2_test_X = df_std2_test.loc[:, 'Agriculture':'Public_Administration']\n",
        "df_std2_test_Y = df_std2_test['incomeCategory']\n",
        "\n",
        "df_std3_train, df_std3_test = train_test_split(df_std3,random_state=999,test_size=0.3)\n",
        "df_std3_train_X = df_std3_train.loc[:, 'Agriculture':'Public_Administration']\n",
        "df_std3_train_Y = df_std3_train['empCategory']\n",
        "df_std3_test_X = df_std3_test.loc[:, 'Agriculture':'Public_Administration']\n",
        "df_std3_test_Y = df_std3_test['empCategory']"
      ],
      "metadata": {
        "id": "SJdsqA3H9uas"
      },
      "execution_count": null,
      "outputs": []
    },
    {
      "cell_type": "code",
      "source": [
        "param_grid = {'n_estimators':range(1,51,5),'max_leaf_nodes': range(2,10)}\n",
        "rf = RandomForestClassifier()\n",
        "gs = GridSearchCV(rf,param_grid=param_grid)\n",
        "rs = gs.fit(df_std_train_X,df_std_train_Y)\n",
        "print(rs.best_params_)"
      ],
      "metadata": {
        "colab": {
          "base_uri": "https://localhost:8080/"
        },
        "id": "a1RJFeBX9TS6",
        "outputId": "36200de9-a899-47d2-d842-81fc2f4ee459"
      },
      "execution_count": null,
      "outputs": [
        {
          "output_type": "stream",
          "name": "stderr",
          "text": [
            "/usr/local/lib/python3.7/dist-packages/sklearn/model_selection/_split.py:680: UserWarning: The least populated class in y has only 2 members, which is less than n_splits=5.\n",
            "  UserWarning,\n"
          ]
        },
        {
          "output_type": "stream",
          "name": "stdout",
          "text": [
            "{'max_leaf_nodes': 6, 'n_estimators': 46}\n"
          ]
        }
      ]
    },
    {
      "cell_type": "code",
      "source": [
        "rf = RandomForestClassifier(n_estimators=21,max_leaf_nodes=6)\n",
        "rf.fit(df_std_train_X,df_std_train_Y)"
      ],
      "metadata": {
        "colab": {
          "base_uri": "https://localhost:8080/"
        },
        "id": "OQ-iXplsAKZt",
        "outputId": "7fe5be2e-502c-4d2a-fdcf-37e2194dcada"
      },
      "execution_count": null,
      "outputs": [
        {
          "output_type": "execute_result",
          "data": {
            "text/plain": [
              "RandomForestClassifier(max_leaf_nodes=6, n_estimators=21)"
            ]
          },
          "metadata": {},
          "execution_count": 75
        }
      ]
    },
    {
      "cell_type": "code",
      "source": [
        "predicted_train = rf.predict(df_std_train_X)\n",
        "print(\"In sample:\",(df_std_train_Y.reset_index(drop=True)==predicted_train).mean())\n",
        "\n",
        "predicted_test = rf.predict(df_std_test_X)\n",
        "print(\"Out of sample:\",(df_std_test_Y.reset_index(drop=True)==predicted_test).mean())"
      ],
      "metadata": {
        "colab": {
          "base_uri": "https://localhost:8080/"
        },
        "id": "1iRgfRbfKAr2",
        "outputId": "d350110c-8fc7-484a-db59-d19eb0cdd806"
      },
      "execution_count": null,
      "outputs": [
        {
          "output_type": "stream",
          "name": "stdout",
          "text": [
            "In sample: 0.6641221374045801\n",
            "Out of sample: 0.5132743362831859\n"
          ]
        }
      ]
    },
    {
      "cell_type": "code",
      "source": [
        "param_grid = {'n_estimators':range(1,51,5),'max_leaf_nodes': range(2,10)}\n",
        "rf = RandomForestClassifier()\n",
        "gs = GridSearchCV(rf,param_grid=param_grid)\n",
        "rs = gs.fit(df_std2_train_X,df_std2_train_Y)\n",
        "print(rs.best_params_)"
      ],
      "metadata": {
        "colab": {
          "base_uri": "https://localhost:8080/"
        },
        "id": "bY7rhdELRzMA",
        "outputId": "0ee5a629-2b21-4c33-e9aa-9e9e0781d97f"
      },
      "execution_count": null,
      "outputs": [
        {
          "output_type": "stream",
          "name": "stdout",
          "text": [
            "{'max_leaf_nodes': 9, 'n_estimators': 41}\n"
          ]
        }
      ]
    },
    {
      "cell_type": "code",
      "source": [
        "rf = RandomForestClassifier(n_estimators=16,max_leaf_nodes=5)\n",
        "rf.fit(df_std2_train_X,df_std2_train_Y)"
      ],
      "metadata": {
        "colab": {
          "base_uri": "https://localhost:8080/"
        },
        "id": "GR97WeaeRzH_",
        "outputId": "e2f2af83-a421-443f-da79-ca5c47a0258e"
      },
      "execution_count": null,
      "outputs": [
        {
          "output_type": "execute_result",
          "data": {
            "text/plain": [
              "RandomForestClassifier(max_leaf_nodes=5, n_estimators=16)"
            ]
          },
          "metadata": {},
          "execution_count": 78
        }
      ]
    },
    {
      "cell_type": "code",
      "source": [
        "predicted_train = rf.predict(df_std2_train_X)\n",
        "print(\"In sample:\",(df_std2_train_Y.reset_index(drop=True)==predicted_train).mean())\n",
        "\n",
        "predicted_test = rf.predict(df_std2_test_X)\n",
        "print(\"Out of sample:\",(df_std2_test_Y.reset_index(drop=True)==predicted_test).mean())"
      ],
      "metadata": {
        "colab": {
          "base_uri": "https://localhost:8080/"
        },
        "id": "-nu9XAq4RzFr",
        "outputId": "c89cdb03-421d-457f-c421-4414e3182f4d"
      },
      "execution_count": null,
      "outputs": [
        {
          "output_type": "stream",
          "name": "stdout",
          "text": [
            "In sample: 0.6755725190839694\n",
            "Out of sample: 0.6194690265486725\n"
          ]
        }
      ]
    },
    {
      "cell_type": "code",
      "source": [
        "param_grid = {'n_estimators':range(1,51,5),'max_leaf_nodes': range(2,10)}\n",
        "rf = RandomForestClassifier()\n",
        "gs = GridSearchCV(rf,param_grid=param_grid)\n",
        "rs = gs.fit(df_std3_train_X,df_std3_train_Y)\n",
        "print(rs.best_params_)"
      ],
      "metadata": {
        "colab": {
          "base_uri": "https://localhost:8080/"
        },
        "id": "SrwZCDQSRzDj",
        "outputId": "a1c1edd6-86d0-4101-b2e2-a742bc76eba7"
      },
      "execution_count": null,
      "outputs": [
        {
          "output_type": "stream",
          "name": "stderr",
          "text": [
            "/usr/local/lib/python3.7/dist-packages/sklearn/model_selection/_split.py:680: UserWarning: The least populated class in y has only 1 members, which is less than n_splits=5.\n",
            "  UserWarning,\n"
          ]
        },
        {
          "output_type": "stream",
          "name": "stdout",
          "text": [
            "{'max_leaf_nodes': 8, 'n_estimators': 21}\n"
          ]
        }
      ]
    },
    {
      "cell_type": "code",
      "source": [
        "rf = RandomForestClassifier(n_estimators=46,max_leaf_nodes=9)\n",
        "rf.fit(df_std3_train_X,df_std3_train_Y)"
      ],
      "metadata": {
        "colab": {
          "base_uri": "https://localhost:8080/"
        },
        "id": "qgME8bpjRzBg",
        "outputId": "ff8bdb1c-86d3-474a-9a86-335afce75db8"
      },
      "execution_count": null,
      "outputs": [
        {
          "output_type": "execute_result",
          "data": {
            "text/plain": [
              "RandomForestClassifier(max_leaf_nodes=9, n_estimators=46)"
            ]
          },
          "metadata": {},
          "execution_count": 81
        }
      ]
    },
    {
      "cell_type": "code",
      "source": [
        "predicted_train = rf.predict(df_std3_train_X)\n",
        "print(\"In sample:\",(df_std3_train_Y.reset_index(drop=True)==predicted_train).mean())\n",
        "\n",
        "predicted_test = rf.predict(df_std3_test_X)\n",
        "print(\"Out of sample:\",(df_std3_test_Y.reset_index(drop=True)==predicted_test).mean())"
      ],
      "metadata": {
        "colab": {
          "base_uri": "https://localhost:8080/"
        },
        "id": "eevkC7azRy_O",
        "outputId": "0790b288-d8fe-4bd7-84e2-488bf0a8e8dc"
      },
      "execution_count": null,
      "outputs": [
        {
          "output_type": "stream",
          "name": "stdout",
          "text": [
            "In sample: 0.7537878787878788\n",
            "Out of sample: 0.4649122807017544\n"
          ]
        }
      ]
    },
    {
      "cell_type": "code",
      "source": [
        "#RFC with MSA classifier 0/1 on 1 and 5 category classifiers"
      ],
      "metadata": {
        "id": "GPpK6VeRFiD5"
      },
      "execution_count": null,
      "outputs": []
    },
    {
      "cell_type": "code",
      "source": [
        "for i in msa_data.columns:\n",
        "  if i != 'MSA':\n",
        "    for j in range(len(msa_data[i])):\n",
        "      if msa_data[i][j] >= 1:\n",
        "        msa_data[i][j] = 1\n",
        "      else:\n",
        "        msa_data[i][j] = 0"
      ],
      "metadata": {
        "colab": {
          "base_uri": "https://localhost:8080/"
        },
        "id": "wgFmGNxTLkEe",
        "outputId": "b4783377-0ad0-4b56-b1ce-88ffd081f0b1"
      },
      "execution_count": null,
      "outputs": [
        {
          "output_type": "stream",
          "name": "stderr",
          "text": [
            "/usr/local/lib/python3.7/dist-packages/ipykernel_launcher.py:7: SettingWithCopyWarning: \n",
            "A value is trying to be set on a copy of a slice from a DataFrame\n",
            "\n",
            "See the caveats in the documentation: https://pandas.pydata.org/pandas-docs/stable/user_guide/indexing.html#returning-a-view-versus-a-copy\n",
            "  import sys\n",
            "/usr/local/lib/python3.7/dist-packages/ipykernel_launcher.py:5: SettingWithCopyWarning: \n",
            "A value is trying to be set on a copy of a slice from a DataFrame\n",
            "\n",
            "See the caveats in the documentation: https://pandas.pydata.org/pandas-docs/stable/user_guide/indexing.html#returning-a-view-versus-a-copy\n",
            "  \"\"\"\n"
          ]
        }
      ]
    },
    {
      "cell_type": "code",
      "source": [
        "df_std = msa_data.merge(pop_data[['msaID','PopChange', 'PopCategory']], left_on='MSA',right_on='msaID').drop('msaID',axis=1)\n",
        "df_std2 = msa_data.merge(income_data[['msaID','IncomeChange', 'incomeCategory']], left_on='MSA',right_on='msaID').drop('msaID',axis=1)\n",
        "df_std3 = msa_data.merge(emp_data[['msaID','EmpChange', 'empCategory']], left_on='MSA',right_on='msaID').drop('msaID',axis=1)"
      ],
      "metadata": {
        "id": "MrYx9r4tLkCo"
      },
      "execution_count": null,
      "outputs": []
    },
    {
      "cell_type": "code",
      "source": [
        "df_std_train, df_std_test = train_test_split(df_std,random_state=999,test_size=0.3)\n",
        "df_std_train_X = df_std_train.loc[:, 'Agriculture':'Public_Administration']\n",
        "df_std_train_Y = df_std_train['PopCategory']\n",
        "df_std_test_X = df_std_test.loc[:, 'Agriculture':'Public_Administration']\n",
        "df_std_test_Y = df_std_test['PopCategory']\n",
        "\n",
        "df_std2_train, df_std2_test = train_test_split(df_std2,random_state=999,test_size=0.3)\n",
        "df_std2_train_X = df_std2_train.loc[:, 'Agriculture':'Public_Administration']\n",
        "df_std2_train_Y = df_std2_train['incomeCategory']\n",
        "df_std2_test_X = df_std2_test.loc[:, 'Agriculture':'Public_Administration']\n",
        "df_std2_test_Y = df_std2_test['incomeCategory']\n",
        "\n",
        "df_std3_train, df_std3_test = train_test_split(df_std3,random_state=999,test_size=0.3)\n",
        "df_std3_train_X = df_std3_train.loc[:, 'Agriculture':'Public_Administration']\n",
        "df_std3_train_Y = df_std3_train['empCategory']\n",
        "df_std3_test_X = df_std3_test.loc[:, 'Agriculture':'Public_Administration']\n",
        "df_std3_test_Y = df_std3_test['empCategory']"
      ],
      "metadata": {
        "id": "4pGOoXQ0LkAU"
      },
      "execution_count": null,
      "outputs": []
    },
    {
      "cell_type": "code",
      "source": [
        "param_grid = {'n_estimators':range(1,51,5),'max_leaf_nodes': range(2,10)}\n",
        "rf = RandomForestClassifier()\n",
        "gs = GridSearchCV(rf,param_grid=param_grid)\n",
        "rs = gs.fit(df_std_train_X,df_std_train_Y)\n",
        "print(rs.best_params_)"
      ],
      "metadata": {
        "colab": {
          "base_uri": "https://localhost:8080/"
        },
        "id": "i7YZTRmpLj-d",
        "outputId": "93a91c63-8976-47c7-88fd-c8dd104400c3"
      },
      "execution_count": null,
      "outputs": [
        {
          "output_type": "stream",
          "name": "stderr",
          "text": [
            "/usr/local/lib/python3.7/dist-packages/sklearn/model_selection/_split.py:680: UserWarning: The least populated class in y has only 2 members, which is less than n_splits=5.\n",
            "  UserWarning,\n"
          ]
        },
        {
          "output_type": "stream",
          "name": "stdout",
          "text": [
            "{'max_leaf_nodes': 8, 'n_estimators': 11}\n"
          ]
        }
      ]
    },
    {
      "cell_type": "code",
      "source": [
        "rf = RandomForestClassifier(n_estimators=26,max_leaf_nodes=5)\n",
        "rf.fit(df_std_train_X,df_std_train_Y)"
      ],
      "metadata": {
        "colab": {
          "base_uri": "https://localhost:8080/"
        },
        "id": "sk9FHDqLLj8a",
        "outputId": "9c21a9d2-f3a0-4afe-d544-ece9128d8806"
      },
      "execution_count": null,
      "outputs": [
        {
          "output_type": "execute_result",
          "data": {
            "text/plain": [
              "RandomForestClassifier(max_leaf_nodes=5, n_estimators=26)"
            ]
          },
          "metadata": {},
          "execution_count": 88
        }
      ]
    },
    {
      "cell_type": "code",
      "source": [
        "predicted_train = rf.predict(df_std_train_X)\n",
        "print(\"In sample:\",(df_std_train_Y.reset_index(drop=True)==predicted_train).mean())\n",
        "\n",
        "predicted_test = rf.predict(df_std_test_X)\n",
        "print(\"Out of sample:\",(df_std_test_Y.reset_index(drop=True)==predicted_test).mean())"
      ],
      "metadata": {
        "colab": {
          "base_uri": "https://localhost:8080/"
        },
        "id": "kVJhrjAsLj6O",
        "outputId": "eda706b0-a8ae-4cb5-8696-18af84dc718c"
      },
      "execution_count": null,
      "outputs": [
        {
          "output_type": "stream",
          "name": "stdout",
          "text": [
            "In sample: 0.5687022900763359\n",
            "Out of sample: 0.5309734513274337\n"
          ]
        }
      ]
    },
    {
      "cell_type": "code",
      "source": [
        "param_grid = {'n_estimators':range(1,51,5),'max_leaf_nodes': range(2,10)}\n",
        "rf = RandomForestClassifier()\n",
        "gs = GridSearchCV(rf,param_grid=param_grid)\n",
        "rs = gs.fit(df_std2_train_X,df_std2_train_Y)\n",
        "print(rs.best_params_)\n",
        "\n",
        "# rf = RandomForestClassifier(n_estimators=16,max_leaf_nodes=5)\n",
        "# rf.fit(df_std2_train_X,df_std2_train_Y)\n",
        "\n",
        "# predicted_train = rf.predict(df_std2_train_X)\n",
        "# print(\"In sample:\",(df_std2_train_Y.reset_index(drop=True)==predicted_train).mean())\n",
        "\n",
        "# predicted_test = rf.predict(df_std2_test_X)\n",
        "# print(\"Out of sample:\",(df_std2_test_Y.reset_index(drop=True)==predicted_test).mean())"
      ],
      "metadata": {
        "colab": {
          "base_uri": "https://localhost:8080/"
        },
        "id": "tfYtkxXCTh7d",
        "outputId": "ca5ed075-1fdb-4302-fe08-b1d51e9359d6"
      },
      "execution_count": null,
      "outputs": [
        {
          "output_type": "stream",
          "name": "stdout",
          "text": [
            "{'max_leaf_nodes': 9, 'n_estimators': 46}\n"
          ]
        }
      ]
    },
    {
      "cell_type": "code",
      "source": [
        "rf = RandomForestClassifier(n_estimators=31,max_leaf_nodes=8)\n",
        "rf.fit(df_std2_train_X,df_std2_train_Y)"
      ],
      "metadata": {
        "colab": {
          "base_uri": "https://localhost:8080/"
        },
        "id": "3ZwNZV_7Th5Y",
        "outputId": "55176ddc-8ede-4a0c-febd-f0b8805d5ac8"
      },
      "execution_count": null,
      "outputs": [
        {
          "output_type": "execute_result",
          "data": {
            "text/plain": [
              "RandomForestClassifier(max_leaf_nodes=8, n_estimators=31)"
            ]
          },
          "metadata": {},
          "execution_count": 91
        }
      ]
    },
    {
      "cell_type": "code",
      "source": [
        "predicted_train = rf.predict(df_std2_train_X)\n",
        "print(\"In sample:\",(df_std2_train_Y.reset_index(drop=True)==predicted_train).mean())\n",
        "\n",
        "predicted_test = rf.predict(df_std2_test_X)\n",
        "print(\"Out of sample:\",(df_std2_test_Y.reset_index(drop=True)==predicted_test).mean())"
      ],
      "metadata": {
        "colab": {
          "base_uri": "https://localhost:8080/"
        },
        "id": "ucStG8x-Th3h",
        "outputId": "f8673523-7cd3-47c3-96a8-899d1653d06b"
      },
      "execution_count": null,
      "outputs": [
        {
          "output_type": "stream",
          "name": "stdout",
          "text": [
            "In sample: 0.6679389312977099\n",
            "Out of sample: 0.5221238938053098\n"
          ]
        }
      ]
    },
    {
      "cell_type": "code",
      "source": [
        "param_grid = {'n_estimators':range(1,51,5),'max_leaf_nodes': range(2,10)}\n",
        "rf = RandomForestClassifier()\n",
        "gs = GridSearchCV(rf,param_grid=param_grid)\n",
        "rs = gs.fit(df_std3_train_X,df_std3_train_Y)\n",
        "print(rs.best_params_)"
      ],
      "metadata": {
        "colab": {
          "base_uri": "https://localhost:8080/"
        },
        "id": "Qpv2uY-RTh1e",
        "outputId": "d6fd8d1a-c74b-4aef-ce47-76135f6b3b46"
      },
      "execution_count": null,
      "outputs": [
        {
          "output_type": "stream",
          "name": "stderr",
          "text": [
            "/usr/local/lib/python3.7/dist-packages/sklearn/model_selection/_split.py:680: UserWarning: The least populated class in y has only 1 members, which is less than n_splits=5.\n",
            "  UserWarning,\n"
          ]
        },
        {
          "output_type": "stream",
          "name": "stdout",
          "text": [
            "{'max_leaf_nodes': 9, 'n_estimators': 46}\n"
          ]
        }
      ]
    },
    {
      "cell_type": "code",
      "source": [
        "rf = RandomForestClassifier(n_estimators=16,max_leaf_nodes=6)\n",
        "rf.fit(df_std3_train_X,df_std3_train_Y)"
      ],
      "metadata": {
        "colab": {
          "base_uri": "https://localhost:8080/"
        },
        "id": "NOlkNdAfThzn",
        "outputId": "8c5cfb73-01f7-4500-ef0d-79b4654b6683"
      },
      "execution_count": null,
      "outputs": [
        {
          "output_type": "execute_result",
          "data": {
            "text/plain": [
              "RandomForestClassifier(max_leaf_nodes=6, n_estimators=16)"
            ]
          },
          "metadata": {},
          "execution_count": 94
        }
      ]
    },
    {
      "cell_type": "code",
      "source": [
        "predicted_train = rf.predict(df_std3_train_X)\n",
        "print(\"In sample:\",(df_std3_train_Y.reset_index(drop=True)==predicted_train).mean())\n",
        "\n",
        "predicted_test = rf.predict(df_std3_test_X)\n",
        "print(\"Out of sample:\",(df_std3_test_Y.reset_index(drop=True)==predicted_test).mean())"
      ],
      "metadata": {
        "colab": {
          "base_uri": "https://localhost:8080/"
        },
        "id": "c12HipxHThxT",
        "outputId": "1abd4511-8276-4afd-c876-39bfe06152d9"
      },
      "execution_count": null,
      "outputs": [
        {
          "output_type": "stream",
          "name": "stdout",
          "text": [
            "In sample: 0.5795454545454546\n",
            "Out of sample: 0.45614035087719296\n"
          ]
        }
      ]
    },
    {
      "cell_type": "code",
      "source": [],
      "metadata": {
        "id": "KfOcA5VmThtZ"
      },
      "execution_count": null,
      "outputs": []
    },
    {
      "cell_type": "code",
      "source": [],
      "metadata": {
        "id": "UNNTpm1FThrR"
      },
      "execution_count": null,
      "outputs": []
    },
    {
      "cell_type": "code",
      "source": [
        "#RFC with MSA classifier 0/1 on 1 and 3 category classifiers"
      ],
      "metadata": {
        "id": "gWKEmR9qL2IA"
      },
      "execution_count": null,
      "outputs": []
    },
    {
      "cell_type": "code",
      "source": [
        "pop_data['PopCategory'] = -100\n",
        "for i in range(len(pop_data)):\n",
        "  if ((pop_data['PopChange'][i] >= 0) & (pop_data['PopChange'][i] <= 0.8)):\n",
        "    pop_data['PopCategory'][i] = 0\n",
        "  elif ((pop_data['PopChange'][i] > 0.8)):\n",
        "    pop_data['PopCategory'][i] = 1\n",
        "  elif (pop_data['PopChange'][i] < 0):\n",
        "    pop_data['PopCategory'][i] = -1"
      ],
      "metadata": {
        "colab": {
          "base_uri": "https://localhost:8080/"
        },
        "id": "GWvGSRgvMId-",
        "outputId": "fe6f0d2c-35de-4520-90d3-1d50af2a130f"
      },
      "execution_count": null,
      "outputs": [
        {
          "output_type": "stream",
          "name": "stderr",
          "text": [
            "/usr/local/lib/python3.7/dist-packages/ipykernel_launcher.py:4: SettingWithCopyWarning: \n",
            "A value is trying to be set on a copy of a slice from a DataFrame\n",
            "\n",
            "See the caveats in the documentation: https://pandas.pydata.org/pandas-docs/stable/user_guide/indexing.html#returning-a-view-versus-a-copy\n",
            "  after removing the cwd from sys.path.\n",
            "/usr/local/lib/python3.7/dist-packages/ipykernel_launcher.py:8: SettingWithCopyWarning: \n",
            "A value is trying to be set on a copy of a slice from a DataFrame\n",
            "\n",
            "See the caveats in the documentation: https://pandas.pydata.org/pandas-docs/stable/user_guide/indexing.html#returning-a-view-versus-a-copy\n",
            "  \n",
            "/usr/local/lib/python3.7/dist-packages/ipykernel_launcher.py:6: SettingWithCopyWarning: \n",
            "A value is trying to be set on a copy of a slice from a DataFrame\n",
            "\n",
            "See the caveats in the documentation: https://pandas.pydata.org/pandas-docs/stable/user_guide/indexing.html#returning-a-view-versus-a-copy\n",
            "  \n"
          ]
        }
      ]
    },
    {
      "cell_type": "code",
      "source": [
        "income_data['incomeCategory'] = -100\n",
        "for i in range(len(income_data)):\n",
        "  if ((income_data['IncomeChange'][i] >= 0) & (income_data['IncomeChange'][i] <= 0.8)):\n",
        "    income_data['incomeCategory'][i] = 0\n",
        "  elif ((income_data['IncomeChange'][i] > 0.8)):\n",
        "    income_data['incomeCategory'][i] = 1\n",
        "  elif (income_data['IncomeChange'][i] < 0):\n",
        "    income_data['incomeCategory'][i] = -1"
      ],
      "metadata": {
        "colab": {
          "base_uri": "https://localhost:8080/"
        },
        "id": "rRYNWDAWMIbz",
        "outputId": "aa6edb20-9002-48fe-c31c-96ca4a0bb4a7"
      },
      "execution_count": null,
      "outputs": [
        {
          "output_type": "stream",
          "name": "stderr",
          "text": [
            "/usr/local/lib/python3.7/dist-packages/ipykernel_launcher.py:4: SettingWithCopyWarning: \n",
            "A value is trying to be set on a copy of a slice from a DataFrame\n",
            "\n",
            "See the caveats in the documentation: https://pandas.pydata.org/pandas-docs/stable/user_guide/indexing.html#returning-a-view-versus-a-copy\n",
            "  after removing the cwd from sys.path.\n",
            "/usr/local/lib/python3.7/dist-packages/ipykernel_launcher.py:6: SettingWithCopyWarning: \n",
            "A value is trying to be set on a copy of a slice from a DataFrame\n",
            "\n",
            "See the caveats in the documentation: https://pandas.pydata.org/pandas-docs/stable/user_guide/indexing.html#returning-a-view-versus-a-copy\n",
            "  \n",
            "/usr/local/lib/python3.7/dist-packages/ipykernel_launcher.py:8: SettingWithCopyWarning: \n",
            "A value is trying to be set on a copy of a slice from a DataFrame\n",
            "\n",
            "See the caveats in the documentation: https://pandas.pydata.org/pandas-docs/stable/user_guide/indexing.html#returning-a-view-versus-a-copy\n",
            "  \n"
          ]
        }
      ]
    },
    {
      "cell_type": "code",
      "source": [
        "emp_data['empCategory'] = -100\n",
        "for i in range(len(emp_data)):\n",
        "  if ((emp_data['EmpChange'][i] >= 0) & (emp_data['EmpChange'][i] <= 0.8)):\n",
        "    emp_data['empCategory'][i] = 0\n",
        "  elif ((emp_data['EmpChange'][i] > 0.8)):\n",
        "    emp_data['empCategory'][i] = 1\n",
        "  elif (emp_data['EmpChange'][i] < 0):\n",
        "    emp_data['empCategory'][i] = -1"
      ],
      "metadata": {
        "colab": {
          "base_uri": "https://localhost:8080/"
        },
        "id": "CEWOjqCJMIZ9",
        "outputId": "0882a403-634f-4177-b941-fbf969264421"
      },
      "execution_count": null,
      "outputs": [
        {
          "output_type": "stream",
          "name": "stderr",
          "text": [
            "/usr/local/lib/python3.7/dist-packages/ipykernel_launcher.py:4: SettingWithCopyWarning: \n",
            "A value is trying to be set on a copy of a slice from a DataFrame\n",
            "\n",
            "See the caveats in the documentation: https://pandas.pydata.org/pandas-docs/stable/user_guide/indexing.html#returning-a-view-versus-a-copy\n",
            "  after removing the cwd from sys.path.\n",
            "/usr/local/lib/python3.7/dist-packages/ipykernel_launcher.py:6: SettingWithCopyWarning: \n",
            "A value is trying to be set on a copy of a slice from a DataFrame\n",
            "\n",
            "See the caveats in the documentation: https://pandas.pydata.org/pandas-docs/stable/user_guide/indexing.html#returning-a-view-versus-a-copy\n",
            "  \n",
            "/usr/local/lib/python3.7/dist-packages/ipykernel_launcher.py:8: SettingWithCopyWarning: \n",
            "A value is trying to be set on a copy of a slice from a DataFrame\n",
            "\n",
            "See the caveats in the documentation: https://pandas.pydata.org/pandas-docs/stable/user_guide/indexing.html#returning-a-view-versus-a-copy\n",
            "  \n"
          ]
        }
      ]
    },
    {
      "cell_type": "code",
      "source": [
        "df_std = msa_data.merge(pop_data[['msaID','PopChange', 'PopCategory']], left_on='MSA',right_on='msaID').drop('msaID',axis=1)\n",
        "df_std2 = msa_data.merge(income_data[['msaID','IncomeChange', 'incomeCategory']], left_on='MSA',right_on='msaID').drop('msaID',axis=1)\n",
        "df_std3 = msa_data.merge(emp_data[['msaID','EmpChange', 'empCategory']], left_on='MSA',right_on='msaID').drop('msaID',axis=1)"
      ],
      "metadata": {
        "id": "CQhRj-UzMIVD"
      },
      "execution_count": null,
      "outputs": []
    },
    {
      "cell_type": "code",
      "source": [
        "df_std_train, df_std_test = train_test_split(df_std,random_state=999,test_size=0.3)\n",
        "df_std_train_X = df_std_train.loc[:, 'Agriculture':'Public_Administration']\n",
        "df_std_train_Y = df_std_train['PopCategory']\n",
        "df_std_test_X = df_std_test.loc[:, 'Agriculture':'Public_Administration']\n",
        "df_std_test_Y = df_std_test['PopCategory']\n",
        "\n",
        "df_std2_train, df_std2_test = train_test_split(df_std2,random_state=999,test_size=0.3)\n",
        "df_std2_train_X = df_std2_train.loc[:, 'Agriculture':'Public_Administration']\n",
        "df_std2_train_Y = df_std2_train['incomeCategory']\n",
        "df_std2_test_X = df_std2_test.loc[:, 'Agriculture':'Public_Administration']\n",
        "df_std2_test_Y = df_std2_test['incomeCategory']\n",
        "\n",
        "df_std3_train, df_std3_test = train_test_split(df_std3,random_state=999,test_size=0.3)\n",
        "df_std3_train_X = df_std3_train.loc[:, 'Agriculture':'Public_Administration']\n",
        "df_std3_train_Y = df_std3_train['empCategory']\n",
        "df_std3_test_X = df_std3_test.loc[:, 'Agriculture':'Public_Administration']\n",
        "df_std3_test_Y = df_std3_test['empCategory']"
      ],
      "metadata": {
        "id": "CVSkMMLoN4Ev"
      },
      "execution_count": null,
      "outputs": []
    },
    {
      "cell_type": "code",
      "source": [
        "param_grid = {'n_estimators':range(1,51,5),'max_leaf_nodes': range(2,10)}\n",
        "rf = RandomForestClassifier()\n",
        "gs = GridSearchCV(rf,param_grid=param_grid)\n",
        "rs = gs.fit(df_std_train_X,df_std_train_Y)\n",
        "print(rs.best_params_)"
      ],
      "metadata": {
        "colab": {
          "base_uri": "https://localhost:8080/"
        },
        "id": "Qov3Qxk-N5fp",
        "outputId": "a4d29462-14a6-45cc-e3bc-8813c916229d"
      },
      "execution_count": null,
      "outputs": [
        {
          "output_type": "stream",
          "name": "stdout",
          "text": [
            "{'max_leaf_nodes': 5, 'n_estimators': 11}\n"
          ]
        }
      ]
    },
    {
      "cell_type": "code",
      "source": [
        "rf = RandomForestClassifier(n_estimators=31,max_leaf_nodes=9)\n",
        "rf.fit(df_std_train_X,df_std_train_Y)"
      ],
      "metadata": {
        "colab": {
          "base_uri": "https://localhost:8080/"
        },
        "id": "5vIE5ezQOEZr",
        "outputId": "8fe753ad-3a0e-4868-9f1c-4af1ecf0b60d"
      },
      "execution_count": null,
      "outputs": [
        {
          "output_type": "execute_result",
          "data": {
            "text/plain": [
              "RandomForestClassifier(max_leaf_nodes=9, n_estimators=31)"
            ]
          },
          "metadata": {},
          "execution_count": 103
        }
      ]
    },
    {
      "cell_type": "code",
      "source": [
        "predicted_train = rf.predict(df_std_train_X)\n",
        "print(\"In sample:\",(df_std_train_Y.reset_index(drop=True)==predicted_train).mean())\n",
        "\n",
        "predicted_test = rf.predict(df_std_test_X)\n",
        "print(\"Out of sample:\",(df_std_test_Y.reset_index(drop=True)==predicted_test).mean())"
      ],
      "metadata": {
        "colab": {
          "base_uri": "https://localhost:8080/"
        },
        "id": "SQi2S0zGOIUn",
        "outputId": "debd6da1-bccf-4339-c518-658bb5316bca"
      },
      "execution_count": null,
      "outputs": [
        {
          "output_type": "stream",
          "name": "stdout",
          "text": [
            "In sample: 0.6717557251908397\n",
            "Out of sample: 0.5663716814159292\n"
          ]
        }
      ]
    },
    {
      "cell_type": "code",
      "source": [
        "param_grid = {'n_estimators':range(1,51,5),'max_leaf_nodes': range(2,10)}\n",
        "rf = RandomForestClassifier()\n",
        "gs = GridSearchCV(rf,param_grid=param_grid)\n",
        "rs = gs.fit(df_std2_train_X,df_std2_train_Y)\n",
        "print(rs.best_params_)"
      ],
      "metadata": {
        "colab": {
          "base_uri": "https://localhost:8080/"
        },
        "id": "cOnENQcZT5gC",
        "outputId": "162f667f-103c-47d3-a5b6-1ade0b8a999b"
      },
      "execution_count": null,
      "outputs": [
        {
          "output_type": "stream",
          "name": "stdout",
          "text": [
            "{'max_leaf_nodes': 6, 'n_estimators': 46}\n"
          ]
        }
      ]
    },
    {
      "cell_type": "code",
      "source": [
        "rf = RandomForestClassifier(n_estimators=31,max_leaf_nodes=7)\n",
        "rf.fit(df_std2_train_X,df_std2_train_Y)"
      ],
      "metadata": {
        "colab": {
          "base_uri": "https://localhost:8080/"
        },
        "id": "lcfJ4qshT5eS",
        "outputId": "c8dc66d4-2394-4fe9-fd46-f7ac61376c37"
      },
      "execution_count": null,
      "outputs": [
        {
          "output_type": "execute_result",
          "data": {
            "text/plain": [
              "RandomForestClassifier(max_leaf_nodes=7, n_estimators=31)"
            ]
          },
          "metadata": {},
          "execution_count": 106
        }
      ]
    },
    {
      "cell_type": "code",
      "source": [
        "predicted_train = rf.predict(df_std2_train_X)\n",
        "print(\"In sample:\",(df_std2_train_Y.reset_index(drop=True)==predicted_train).mean())"
      ],
      "metadata": {
        "colab": {
          "base_uri": "https://localhost:8080/"
        },
        "id": "YnLgCc9jT5cL",
        "outputId": "68eb0872-02dc-4938-d6c9-933661d447bb"
      },
      "execution_count": null,
      "outputs": [
        {
          "output_type": "stream",
          "name": "stdout",
          "text": [
            "In sample: 0.7022900763358778\n"
          ]
        }
      ]
    },
    {
      "cell_type": "code",
      "source": [
        "\n",
        "predicted_test = rf.predict(df_std2_test_X)\n",
        "print(\"Out of sample:\",(df_std2_test_Y.reset_index(drop=True)==predicted_test).mean())"
      ],
      "metadata": {
        "colab": {
          "base_uri": "https://localhost:8080/"
        },
        "id": "61ccc-Y4T5aY",
        "outputId": "e6b89629-ec5b-4623-c905-18f38916f6c8"
      },
      "execution_count": null,
      "outputs": [
        {
          "output_type": "stream",
          "name": "stdout",
          "text": [
            "Out of sample: 0.5575221238938053\n"
          ]
        }
      ]
    },
    {
      "cell_type": "code",
      "source": [
        "param_grid = {'n_estimators':range(1,51,5),'max_leaf_nodes': range(2,10)}\n",
        "rf = RandomForestClassifier()\n",
        "gs = GridSearchCV(rf,param_grid=param_grid)\n",
        "rs = gs.fit(df_std3_train_X,df_std3_train_Y)\n",
        "print(rs.best_params_)"
      ],
      "metadata": {
        "colab": {
          "base_uri": "https://localhost:8080/"
        },
        "id": "u2iPQma1T5Ye",
        "outputId": "6312c368-3092-4031-d0d2-755052ac0b6c"
      },
      "execution_count": null,
      "outputs": [
        {
          "output_type": "stream",
          "name": "stdout",
          "text": [
            "{'max_leaf_nodes': 2, 'n_estimators': 26}\n"
          ]
        }
      ]
    },
    {
      "cell_type": "code",
      "source": [
        "rf = RandomForestClassifier(n_estimators=26,max_leaf_nodes=4)\n",
        "rf.fit(df_std3_train_X,df_std3_train_Y)"
      ],
      "metadata": {
        "colab": {
          "base_uri": "https://localhost:8080/"
        },
        "id": "IE0eHr_2T5Wa",
        "outputId": "d7937c56-39d5-48d5-efc6-6a3f0038926d"
      },
      "execution_count": null,
      "outputs": [
        {
          "output_type": "execute_result",
          "data": {
            "text/plain": [
              "RandomForestClassifier(max_leaf_nodes=4, n_estimators=26)"
            ]
          },
          "metadata": {},
          "execution_count": 110
        }
      ]
    },
    {
      "cell_type": "code",
      "source": [
        "predicted_train = rf.predict(df_std3_train_X)\n",
        "print(\"In sample:\",(df_std3_train_Y.reset_index(drop=True)==predicted_train).mean())\n",
        "\n",
        "predicted_test = rf.predict(df_std3_test_X)\n",
        "print(\"Out of sample:\",(df_std3_test_Y.reset_index(drop=True)==predicted_test).mean())"
      ],
      "metadata": {
        "colab": {
          "base_uri": "https://localhost:8080/"
        },
        "id": "9donrNGvT5Um",
        "outputId": "033d9524-db24-48c6-e03d-0da5aa91170b"
      },
      "execution_count": null,
      "outputs": [
        {
          "output_type": "stream",
          "name": "stdout",
          "text": [
            "In sample: 0.625\n",
            "Out of sample: 0.5877192982456141\n"
          ]
        }
      ]
    },
    {
      "cell_type": "code",
      "source": [],
      "metadata": {
        "id": "Mr_MTRX0T5Sg"
      },
      "execution_count": null,
      "outputs": []
    },
    {
      "cell_type": "code",
      "source": [],
      "metadata": {
        "id": "zGFvChf4T5Qb"
      },
      "execution_count": null,
      "outputs": []
    },
    {
      "cell_type": "code",
      "source": [],
      "metadata": {
        "id": "o7fQo5L0T5On"
      },
      "execution_count": null,
      "outputs": []
    },
    {
      "cell_type": "code",
      "source": [],
      "metadata": {
        "id": "K_B1oh4UT5M9"
      },
      "execution_count": null,
      "outputs": []
    },
    {
      "cell_type": "code",
      "source": [
        "#RFC with MSA classifier 0/1 on 1 and 2 category classifiers"
      ],
      "metadata": {
        "id": "IeT0U9SUONMK"
      },
      "execution_count": null,
      "outputs": []
    },
    {
      "cell_type": "code",
      "source": [
        "pop_data['PopCategory'] = -100\n",
        "for i in range(len(pop_data)):\n",
        "  if ((pop_data['PopChange'][i] >= 0)):\n",
        "    pop_data['PopCategory'][i] = 1\n",
        "  elif ((pop_data['PopChange'][i] < 0)):\n",
        "    pop_data['PopCategory'][i] = -1"
      ],
      "metadata": {
        "colab": {
          "base_uri": "https://localhost:8080/"
        },
        "id": "odzV3UmKOS8E",
        "outputId": "fd4aa263-a797-456d-fdfe-32d04e53f1f3"
      },
      "execution_count": null,
      "outputs": [
        {
          "output_type": "stream",
          "name": "stderr",
          "text": [
            "/usr/local/lib/python3.7/dist-packages/ipykernel_launcher.py:4: SettingWithCopyWarning: \n",
            "A value is trying to be set on a copy of a slice from a DataFrame\n",
            "\n",
            "See the caveats in the documentation: https://pandas.pydata.org/pandas-docs/stable/user_guide/indexing.html#returning-a-view-versus-a-copy\n",
            "  after removing the cwd from sys.path.\n",
            "/usr/local/lib/python3.7/dist-packages/ipykernel_launcher.py:6: SettingWithCopyWarning: \n",
            "A value is trying to be set on a copy of a slice from a DataFrame\n",
            "\n",
            "See the caveats in the documentation: https://pandas.pydata.org/pandas-docs/stable/user_guide/indexing.html#returning-a-view-versus-a-copy\n",
            "  \n"
          ]
        }
      ]
    },
    {
      "cell_type": "code",
      "source": [
        "income_data['incomeCategory'] = -100\n",
        "for i in range(len(income_data)):\n",
        "  if ((income_data['IncomeChange'][i] >= 0)):\n",
        "    income_data['incomeCategory'][i] = 1\n",
        "  elif ((income_data['IncomeChange'][i] < 0)):\n",
        "    income_data['incomeCategory'][i] = -1"
      ],
      "metadata": {
        "colab": {
          "base_uri": "https://localhost:8080/"
        },
        "id": "W7Sa-i6uOS6N",
        "outputId": "185c4f2a-fb62-4c26-fb06-595a93154701"
      },
      "execution_count": null,
      "outputs": [
        {
          "output_type": "stream",
          "name": "stderr",
          "text": [
            "/usr/local/lib/python3.7/dist-packages/ipykernel_launcher.py:4: SettingWithCopyWarning: \n",
            "A value is trying to be set on a copy of a slice from a DataFrame\n",
            "\n",
            "See the caveats in the documentation: https://pandas.pydata.org/pandas-docs/stable/user_guide/indexing.html#returning-a-view-versus-a-copy\n",
            "  after removing the cwd from sys.path.\n",
            "/usr/local/lib/python3.7/dist-packages/ipykernel_launcher.py:6: SettingWithCopyWarning: \n",
            "A value is trying to be set on a copy of a slice from a DataFrame\n",
            "\n",
            "See the caveats in the documentation: https://pandas.pydata.org/pandas-docs/stable/user_guide/indexing.html#returning-a-view-versus-a-copy\n",
            "  \n"
          ]
        }
      ]
    },
    {
      "cell_type": "code",
      "source": [
        "emp_data['empCategory'] = -100\n",
        "for i in range(len(emp_data)):\n",
        "  if ((emp_data['EmpChange'][i] >= 0)):\n",
        "    emp_data['empCategory'][i] = 1\n",
        "  elif ((emp_data['EmpChange'][i] < 0)):\n",
        "    emp_data['empCategory'][i] = -1"
      ],
      "metadata": {
        "colab": {
          "base_uri": "https://localhost:8080/"
        },
        "id": "8AJMW5k2OS4K",
        "outputId": "6d82d120-5f63-4d2c-b005-73128662edaf"
      },
      "execution_count": null,
      "outputs": [
        {
          "output_type": "stream",
          "name": "stderr",
          "text": [
            "/usr/local/lib/python3.7/dist-packages/ipykernel_launcher.py:4: SettingWithCopyWarning: \n",
            "A value is trying to be set on a copy of a slice from a DataFrame\n",
            "\n",
            "See the caveats in the documentation: https://pandas.pydata.org/pandas-docs/stable/user_guide/indexing.html#returning-a-view-versus-a-copy\n",
            "  after removing the cwd from sys.path.\n",
            "/usr/local/lib/python3.7/dist-packages/ipykernel_launcher.py:6: SettingWithCopyWarning: \n",
            "A value is trying to be set on a copy of a slice from a DataFrame\n",
            "\n",
            "See the caveats in the documentation: https://pandas.pydata.org/pandas-docs/stable/user_guide/indexing.html#returning-a-view-versus-a-copy\n",
            "  \n"
          ]
        }
      ]
    },
    {
      "cell_type": "code",
      "source": [
        "df_std = msa_data.merge(pop_data[['msaID','PopChange', 'PopCategory']], left_on='MSA',right_on='msaID').drop('msaID',axis=1)\n",
        "df_std2 = msa_data.merge(income_data[['msaID','IncomeChange', 'incomeCategory']], left_on='MSA',right_on='msaID').drop('msaID',axis=1)\n",
        "df_std3 = msa_data.merge(emp_data[['msaID','EmpChange', 'empCategory']], left_on='MSA',right_on='msaID').drop('msaID',axis=1)"
      ],
      "metadata": {
        "id": "KokDncd6OS0Q"
      },
      "execution_count": null,
      "outputs": []
    },
    {
      "cell_type": "code",
      "source": [
        "df_std_train, df_std_test = train_test_split(df_std,random_state=999,test_size=0.3)\n",
        "df_std_train_X = df_std_train.loc[:, 'Agriculture':'Public_Administration']\n",
        "df_std_train_Y = df_std_train['PopCategory']\n",
        "df_std_test_X = df_std_test.loc[:, 'Agriculture':'Public_Administration']\n",
        "df_std_test_Y = df_std_test['PopCategory']\n",
        "\n",
        "df_std2_train, df_std2_test = train_test_split(df_std2,random_state=999,test_size=0.3)\n",
        "df_std2_train_X = df_std2_train.loc[:, 'Agriculture':'Public_Administration']\n",
        "df_std2_train_Y = df_std2_train['incomeCategory']\n",
        "df_std2_test_X = df_std2_test.loc[:, 'Agriculture':'Public_Administration']\n",
        "df_std2_test_Y = df_std2_test['incomeCategory']\n",
        "\n",
        "df_std3_train, df_std3_test = train_test_split(df_std3,random_state=999,test_size=0.3)\n",
        "df_std3_train_X = df_std3_train.loc[:, 'Agriculture':'Public_Administration']\n",
        "df_std3_train_Y = df_std3_train['empCategory']\n",
        "df_std3_test_X = df_std3_test.loc[:, 'Agriculture':'Public_Administration']\n",
        "df_std3_test_Y = df_std3_test['empCategory']"
      ],
      "metadata": {
        "id": "s9RbMel9OSye"
      },
      "execution_count": null,
      "outputs": []
    },
    {
      "cell_type": "code",
      "source": [
        "param_grid = {'n_estimators':range(1,51,5),'max_leaf_nodes': range(2,10)}\n",
        "rf = RandomForestClassifier()\n",
        "gs = GridSearchCV(rf,param_grid=param_grid)\n",
        "rs = gs.fit(df_std_train_X,df_std_train_Y)\n",
        "print(rs.best_params_)"
      ],
      "metadata": {
        "colab": {
          "base_uri": "https://localhost:8080/"
        },
        "id": "WfN_ZD-hOSwX",
        "outputId": "4fa3ad2b-e26d-4e82-84b9-06487ed0a8c2"
      },
      "execution_count": null,
      "outputs": [
        {
          "output_type": "stream",
          "name": "stdout",
          "text": [
            "{'max_leaf_nodes': 5, 'n_estimators': 11}\n"
          ]
        }
      ]
    },
    {
      "cell_type": "code",
      "source": [
        "rf = RandomForestClassifier(n_estimators=11,max_leaf_nodes=8)\n",
        "rf.fit(df_std_train_X,df_std_train_Y)"
      ],
      "metadata": {
        "colab": {
          "base_uri": "https://localhost:8080/"
        },
        "id": "pzv-qq_wOSuk",
        "outputId": "db8394f2-30a7-420d-969a-cd5fe3af6c55"
      },
      "execution_count": null,
      "outputs": [
        {
          "output_type": "execute_result",
          "data": {
            "text/plain": [
              "RandomForestClassifier(max_leaf_nodes=8, n_estimators=11)"
            ]
          },
          "metadata": {},
          "execution_count": 119
        }
      ]
    },
    {
      "cell_type": "code",
      "source": [
        "predicted_train = rf.predict(df_std_train_X)\n",
        "print(\"In sample:\",(df_std_train_Y.reset_index(drop=True)==predicted_train).mean())\n",
        "\n",
        "predicted_test = rf.predict(df_std_test_X)\n",
        "print(\"Out of sample:\",(df_std_test_Y.reset_index(drop=True)==predicted_test).mean())"
      ],
      "metadata": {
        "colab": {
          "base_uri": "https://localhost:8080/"
        },
        "id": "2rJt_6lDOSsb",
        "outputId": "b66980ef-3d69-47bb-b757-c398fd93b733"
      },
      "execution_count": null,
      "outputs": [
        {
          "output_type": "stream",
          "name": "stdout",
          "text": [
            "In sample: 0.8129770992366412\n",
            "Out of sample: 0.7699115044247787\n"
          ]
        }
      ]
    },
    {
      "cell_type": "code",
      "source": [
        "param_grid = {'n_estimators':range(1,51,5),'max_leaf_nodes': range(2,10)}\n",
        "rf = RandomForestClassifier()\n",
        "gs = GridSearchCV(rf,param_grid=param_grid)\n",
        "rs = gs.fit(df_std2_train_X,df_std2_train_Y)\n",
        "print(rs.best_params_)"
      ],
      "metadata": {
        "colab": {
          "base_uri": "https://localhost:8080/"
        },
        "id": "dXyI4z2JOSqy",
        "outputId": "d775774b-55c2-4ee7-b1e7-08f78287a84c"
      },
      "execution_count": null,
      "outputs": [
        {
          "output_type": "stream",
          "name": "stdout",
          "text": [
            "{'max_leaf_nodes': 2, 'n_estimators': 1}\n"
          ]
        }
      ]
    },
    {
      "cell_type": "code",
      "source": [
        "rf = RandomForestClassifier(n_estimators=1,max_leaf_nodes=2)\n",
        "rf.fit(df_std2_train_X,df_std2_train_Y)"
      ],
      "metadata": {
        "colab": {
          "base_uri": "https://localhost:8080/"
        },
        "id": "fU5rvpmrOSo1",
        "outputId": "62b3d92f-926e-4a41-dc98-816b4a7d5c03"
      },
      "execution_count": null,
      "outputs": [
        {
          "output_type": "execute_result",
          "data": {
            "text/plain": [
              "RandomForestClassifier(max_leaf_nodes=2, n_estimators=1)"
            ]
          },
          "metadata": {},
          "execution_count": 122
        }
      ]
    },
    {
      "cell_type": "code",
      "source": [
        "predicted_train = rf.predict(df_std2_train_X)\n",
        "print(\"In sample:\",(df_std2_train_Y.reset_index(drop=True)==predicted_train).mean())\n",
        "\n",
        "predicted_test = rf.predict(df_std2_test_X)\n",
        "print(\"Out of sample:\",(df_std2_test_Y.reset_index(drop=True)==predicted_test).mean())"
      ],
      "metadata": {
        "colab": {
          "base_uri": "https://localhost:8080/"
        },
        "id": "kgJgtgiTOSmx",
        "outputId": "e7e2635f-3af7-4cff-81bc-c6f22581d3df"
      },
      "execution_count": null,
      "outputs": [
        {
          "output_type": "stream",
          "name": "stdout",
          "text": [
            "In sample: 0.9656488549618321\n",
            "Out of sample: 0.9734513274336283\n"
          ]
        }
      ]
    },
    {
      "cell_type": "code",
      "source": [
        "param_grid = {'n_estimators':range(1,51,5),'max_leaf_nodes': range(2,10)}\n",
        "rf = RandomForestClassifier()\n",
        "gs = GridSearchCV(rf,param_grid=param_grid)\n",
        "rs = gs.fit(df_std3_train_X,df_std3_train_Y)\n",
        "print(rs.best_params_)"
      ],
      "metadata": {
        "colab": {
          "base_uri": "https://localhost:8080/"
        },
        "id": "IJbxVlPxOSk5",
        "outputId": "30fd8e38-8ef7-41c6-ec6f-9deceb631f5a"
      },
      "execution_count": null,
      "outputs": [
        {
          "output_type": "stream",
          "name": "stdout",
          "text": [
            "{'max_leaf_nodes': 2, 'n_estimators': 1}\n"
          ]
        }
      ]
    },
    {
      "cell_type": "code",
      "source": [
        "rf = RandomForestClassifier(n_estimators=1,max_leaf_nodes=2)\n",
        "rf.fit(df_std3_train_X,df_std3_train_Y)"
      ],
      "metadata": {
        "colab": {
          "base_uri": "https://localhost:8080/"
        },
        "id": "AX95yGh8T_9C",
        "outputId": "c3ac03a4-a7cf-4630-e54e-a54b2e43aed2"
      },
      "execution_count": null,
      "outputs": [
        {
          "output_type": "execute_result",
          "data": {
            "text/plain": [
              "RandomForestClassifier(max_leaf_nodes=2, n_estimators=1)"
            ]
          },
          "metadata": {},
          "execution_count": 125
        }
      ]
    },
    {
      "cell_type": "code",
      "source": [
        "predicted_train = rf.predict(df_std3_train_X)\n",
        "print(\"In sample:\",(df_std3_train_Y.reset_index(drop=True)==predicted_train).mean())\n",
        "\n",
        "predicted_test = rf.predict(df_std3_test_X)\n",
        "print(\"Out of sample:\",(df_std3_test_Y.reset_index(drop=True)==predicted_test).mean())"
      ],
      "metadata": {
        "colab": {
          "base_uri": "https://localhost:8080/"
        },
        "id": "UxaV2NicT_7A",
        "outputId": "1074674a-41ce-4b88-de88-4155f116497f"
      },
      "execution_count": null,
      "outputs": [
        {
          "output_type": "stream",
          "name": "stdout",
          "text": [
            "In sample: 0.9431818181818182\n",
            "Out of sample: 0.9824561403508771\n"
          ]
        }
      ]
    },
    {
      "cell_type": "code",
      "source": [],
      "metadata": {
        "id": "iZel8DtwT9uI"
      },
      "execution_count": null,
      "outputs": []
    },
    {
      "cell_type": "code",
      "source": [],
      "metadata": {
        "id": "8vb4Lqs5T9s1"
      },
      "execution_count": null,
      "outputs": []
    },
    {
      "cell_type": "code",
      "source": [],
      "metadata": {
        "id": "800qz0O4T9qs"
      },
      "execution_count": null,
      "outputs": []
    },
    {
      "cell_type": "code",
      "source": [
        "pop_data['PopCategory'] = -100\n",
        "for i in range(len(pop_data)):\n",
        "  if ((pop_data['PopChange'][i] >= 0)):\n",
        "    pop_data['PopCategory'][i] = 1\n",
        "  elif ((pop_data['PopChange'][i] < 0)):\n",
        "    pop_data['PopCategory'][i] = -1"
      ],
      "metadata": {
        "colab": {
          "base_uri": "https://localhost:8080/"
        },
        "outputId": "6b38c454-aa99-4efd-dd2f-ca181739e6c8",
        "id": "Dy051EqwT-IT"
      },
      "execution_count": null,
      "outputs": [
        {
          "output_type": "stream",
          "name": "stderr",
          "text": [
            "/usr/local/lib/python3.7/dist-packages/ipykernel_launcher.py:4: SettingWithCopyWarning: \n",
            "A value is trying to be set on a copy of a slice from a DataFrame\n",
            "\n",
            "See the caveats in the documentation: https://pandas.pydata.org/pandas-docs/stable/user_guide/indexing.html#returning-a-view-versus-a-copy\n",
            "  after removing the cwd from sys.path.\n",
            "/usr/local/lib/python3.7/dist-packages/ipykernel_launcher.py:6: SettingWithCopyWarning: \n",
            "A value is trying to be set on a copy of a slice from a DataFrame\n",
            "\n",
            "See the caveats in the documentation: https://pandas.pydata.org/pandas-docs/stable/user_guide/indexing.html#returning-a-view-versus-a-copy\n",
            "  \n"
          ]
        }
      ]
    },
    {
      "cell_type": "code",
      "source": [
        "income_data['incomeCategory'] = -100\n",
        "for i in range(len(income_data)):\n",
        "  if ((income_data['IncomeChange'][i] >= 0)):\n",
        "    income_data['incomeCategory'][i] = 1\n",
        "  elif ((income_data['IncomeChange'][i] < 0)):\n",
        "    income_data['incomeCategory'][i] = -1"
      ],
      "metadata": {
        "colab": {
          "base_uri": "https://localhost:8080/"
        },
        "outputId": "7dd2bd5b-3633-454b-8a26-a5839bc1ef30",
        "id": "AfTVUq-hT-IU"
      },
      "execution_count": null,
      "outputs": [
        {
          "output_type": "stream",
          "name": "stderr",
          "text": [
            "/usr/local/lib/python3.7/dist-packages/ipykernel_launcher.py:4: SettingWithCopyWarning: \n",
            "A value is trying to be set on a copy of a slice from a DataFrame\n",
            "\n",
            "See the caveats in the documentation: https://pandas.pydata.org/pandas-docs/stable/user_guide/indexing.html#returning-a-view-versus-a-copy\n",
            "  after removing the cwd from sys.path.\n",
            "/usr/local/lib/python3.7/dist-packages/ipykernel_launcher.py:6: SettingWithCopyWarning: \n",
            "A value is trying to be set on a copy of a slice from a DataFrame\n",
            "\n",
            "See the caveats in the documentation: https://pandas.pydata.org/pandas-docs/stable/user_guide/indexing.html#returning-a-view-versus-a-copy\n",
            "  \n"
          ]
        }
      ]
    },
    {
      "cell_type": "code",
      "source": [
        "emp_data['empCategory'] = -100\n",
        "for i in range(len(emp_data)):\n",
        "  if ((emp_data['EmpChange'][i] >= 0)):\n",
        "    emp_data['empCategory'][i] = 1\n",
        "  elif ((emp_data['EmpChange'][i] < 0)):\n",
        "    emp_data['empCategory'][i] = -1"
      ],
      "metadata": {
        "colab": {
          "base_uri": "https://localhost:8080/"
        },
        "outputId": "9806df74-ed43-4219-cf4b-2f1b83cc807a",
        "id": "_507vRt8T-IU"
      },
      "execution_count": null,
      "outputs": [
        {
          "output_type": "stream",
          "name": "stderr",
          "text": [
            "/usr/local/lib/python3.7/dist-packages/ipykernel_launcher.py:4: SettingWithCopyWarning: \n",
            "A value is trying to be set on a copy of a slice from a DataFrame\n",
            "\n",
            "See the caveats in the documentation: https://pandas.pydata.org/pandas-docs/stable/user_guide/indexing.html#returning-a-view-versus-a-copy\n",
            "  after removing the cwd from sys.path.\n",
            "/usr/local/lib/python3.7/dist-packages/ipykernel_launcher.py:6: SettingWithCopyWarning: \n",
            "A value is trying to be set on a copy of a slice from a DataFrame\n",
            "\n",
            "See the caveats in the documentation: https://pandas.pydata.org/pandas-docs/stable/user_guide/indexing.html#returning-a-view-versus-a-copy\n",
            "  \n"
          ]
        }
      ]
    },
    {
      "cell_type": "code",
      "source": [
        "df_std = msa_data.merge(pop_data[['msaID','PopChange', 'PopCategory']], left_on='MSA',right_on='msaID').drop('msaID',axis=1)\n",
        "df_std2 = msa_data.merge(income_data[['msaID','IncomeChange', 'incomeCategory']], left_on='MSA',right_on='msaID').drop('msaID',axis=1)\n",
        "df_std3 = msa_data.merge(emp_data[['msaID','EmpChange', 'empCategory']], left_on='MSA',right_on='msaID').drop('msaID',axis=1)"
      ],
      "metadata": {
        "id": "i3FBDVZtT-IU"
      },
      "execution_count": null,
      "outputs": []
    },
    {
      "cell_type": "code",
      "source": [
        "df_std_train, df_std_test = train_test_split(df_std,random_state=999,test_size=0.3)\n",
        "df_std_train_X = df_std_train.loc[:, 'Agriculture':'Public_Administration']\n",
        "df_std_train_Y = df_std_train['PopCategory']\n",
        "df_std_test_X = df_std_test.loc[:, 'Agriculture':'Public_Administration']\n",
        "df_std_test_Y = df_std_test['PopCategory']\n",
        "\n",
        "df_std2_train, df_std2_test = train_test_split(df_std2,random_state=999,test_size=0.3)\n",
        "df_std2_train_X = df_std2_train.loc[:, 'Agriculture':'Public_Administration']\n",
        "df_std2_train_Y = df_std2_train['incomeCategory']\n",
        "df_std2_test_X = df_std2_test.loc[:, 'Agriculture':'Public_Administration']\n",
        "df_std2_test_Y = df_std2_test['incomeCategory']\n",
        "\n",
        "df_std3_train, df_std3_test = train_test_split(df_std3,random_state=999,test_size=0.3)\n",
        "df_std3_train_X = df_std3_train.loc[:, 'Agriculture':'Public_Administration']\n",
        "df_std3_train_Y = df_std3_train['empCategory']\n",
        "df_std3_test_X = df_std3_test.loc[:, 'Agriculture':'Public_Administration']\n",
        "df_std3_test_Y = df_std3_test['empCategory']"
      ],
      "metadata": {
        "id": "QKM2jh9NT-IU"
      },
      "execution_count": null,
      "outputs": []
    },
    {
      "cell_type": "code",
      "source": [
        "param_grid = {'n_estimators':range(1,51,5),'max_leaf_nodes': range(2,10)}\n",
        "rf = RandomForestClassifier()\n",
        "gs = GridSearchCV(rf,param_grid=param_grid)\n",
        "rs = gs.fit(df_std_train_X,df_std_train_Y)\n",
        "print(rs.best_params_)"
      ],
      "metadata": {
        "colab": {
          "base_uri": "https://localhost:8080/"
        },
        "outputId": "a735cc04-8e9d-439c-fe4e-cad334b1b4b6",
        "id": "AUvvaD5ZT-IV"
      },
      "execution_count": null,
      "outputs": [
        {
          "output_type": "stream",
          "name": "stdout",
          "text": [
            "{'max_leaf_nodes': 7, 'n_estimators': 1}\n"
          ]
        }
      ]
    },
    {
      "cell_type": "code",
      "source": [
        "rf = RandomForestClassifier(n_estimators=6,max_leaf_nodes=7)\n",
        "rf.fit(df_std_train_X,df_std_train_Y)"
      ],
      "metadata": {
        "colab": {
          "base_uri": "https://localhost:8080/"
        },
        "outputId": "80aa115f-75d6-4516-97c1-53b09b035839",
        "id": "kPtktZaoT-IV"
      },
      "execution_count": null,
      "outputs": [
        {
          "output_type": "execute_result",
          "data": {
            "text/plain": [
              "RandomForestClassifier(max_leaf_nodes=7, n_estimators=6)"
            ]
          },
          "metadata": {},
          "execution_count": 133
        }
      ]
    },
    {
      "cell_type": "code",
      "source": [
        "predicted_train = rf.predict(df_std_train_X)\n",
        "print(\"In sample:\",(df_std_train_Y.reset_index(drop=True)==predicted_train).mean())\n",
        "\n",
        "predicted_test = rf.predict(df_std_test_X)\n",
        "print(\"Out of sample:\",(df_std_test_Y.reset_index(drop=True)==predicted_test).mean())"
      ],
      "metadata": {
        "colab": {
          "base_uri": "https://localhost:8080/"
        },
        "outputId": "480c195c-eaea-4149-a10e-0d2d738f0574",
        "id": "MvS1FFCwT-IV"
      },
      "execution_count": null,
      "outputs": [
        {
          "output_type": "stream",
          "name": "stdout",
          "text": [
            "In sample: 0.8206106870229007\n",
            "Out of sample: 0.7522123893805309\n"
          ]
        }
      ]
    },
    {
      "cell_type": "code",
      "source": [
        "param_grid = {'n_estimators':range(1,51,5),'max_leaf_nodes': range(2,10)}\n",
        "rf = RandomForestClassifier()\n",
        "gs = GridSearchCV(rf,param_grid=param_grid)\n",
        "rs = gs.fit(df_std2_train_X,df_std2_train_Y)\n",
        "print(rs.best_params_)"
      ],
      "metadata": {
        "colab": {
          "base_uri": "https://localhost:8080/"
        },
        "outputId": "b5d9a949-d5f6-400c-9789-0877a47e913d",
        "id": "y8zdYoG4T-IV"
      },
      "execution_count": null,
      "outputs": [
        {
          "output_type": "stream",
          "name": "stdout",
          "text": [
            "{'max_leaf_nodes': 9, 'n_estimators': 6}\n"
          ]
        }
      ]
    },
    {
      "cell_type": "code",
      "source": [
        "rf = RandomForestClassifier(n_estimators=1,max_leaf_nodes=2)\n",
        "rf.fit(df_std2_train_X,df_std2_train_Y)"
      ],
      "metadata": {
        "colab": {
          "base_uri": "https://localhost:8080/"
        },
        "outputId": "b9011a99-53a5-4a71-a822-fcc667da02d7",
        "id": "2bGEjwaZT-IV"
      },
      "execution_count": null,
      "outputs": [
        {
          "output_type": "execute_result",
          "data": {
            "text/plain": [
              "RandomForestClassifier(max_leaf_nodes=2, n_estimators=1)"
            ]
          },
          "metadata": {},
          "execution_count": 136
        }
      ]
    },
    {
      "cell_type": "code",
      "source": [
        "predicted_train = rf.predict(df_std2_train_X)\n",
        "print(\"In sample:\",(df_std2_train_Y.reset_index(drop=True)==predicted_train).mean())\n",
        "\n",
        "predicted_test = rf.predict(df_std2_test_X)\n",
        "print(\"Out of sample:\",(df_std2_test_Y.reset_index(drop=True)==predicted_test).mean())"
      ],
      "metadata": {
        "colab": {
          "base_uri": "https://localhost:8080/"
        },
        "outputId": "9042bb66-7c53-4a70-8fe3-d7a573426e0b",
        "id": "EUHFItABT-IV"
      },
      "execution_count": null,
      "outputs": [
        {
          "output_type": "stream",
          "name": "stdout",
          "text": [
            "In sample: 0.9656488549618321\n",
            "Out of sample: 0.9734513274336283\n"
          ]
        }
      ]
    },
    {
      "cell_type": "code",
      "source": [
        "param_grid = {'n_estimators':range(1,51,5),'max_leaf_nodes': range(2,10)}\n",
        "rf = RandomForestClassifier()\n",
        "gs = GridSearchCV(rf,param_grid=param_grid)\n",
        "rs = gs.fit(df_std3_train_X,df_std3_train_Y)\n",
        "print(rs.best_params_)"
      ],
      "metadata": {
        "colab": {
          "base_uri": "https://localhost:8080/"
        },
        "outputId": "e55dc66b-89d6-4e0b-d2db-a64cfe202a44",
        "id": "i5RKgkUAT-IV"
      },
      "execution_count": null,
      "outputs": [
        {
          "output_type": "stream",
          "name": "stdout",
          "text": [
            "{'max_leaf_nodes': 2, 'n_estimators': 1}\n"
          ]
        }
      ]
    },
    {
      "cell_type": "code",
      "source": [
        "rf = RandomForestClassifier(n_estimators=6,max_leaf_nodes=5)\n",
        "rf.fit(df_std3_train_X,df_std3_train_Y)"
      ],
      "metadata": {
        "colab": {
          "base_uri": "https://localhost:8080/"
        },
        "outputId": "7af52c2d-44d7-4a08-dd93-4c2e6e16c0db",
        "id": "iRRyFl4YT-IV"
      },
      "execution_count": null,
      "outputs": [
        {
          "output_type": "execute_result",
          "data": {
            "text/plain": [
              "RandomForestClassifier(max_leaf_nodes=5, n_estimators=6)"
            ]
          },
          "metadata": {},
          "execution_count": 139
        }
      ]
    },
    {
      "cell_type": "code",
      "source": [
        "predicted_train = rf.predict(df_std3_train_X)\n",
        "print(\"In sample:\",(df_std3_train_Y.reset_index(drop=True)==predicted_train).mean())\n",
        "\n",
        "predicted_test = rf.predict(df_std3_test_X)\n",
        "print(\"Out of sample:\",(df_std3_test_Y.reset_index(drop=True)==predicted_test).mean())"
      ],
      "metadata": {
        "colab": {
          "base_uri": "https://localhost:8080/"
        },
        "outputId": "7a4bd2b7-9947-4dbc-a5d7-23e3963b2a87",
        "id": "MAXRZw2gT-IW"
      },
      "execution_count": null,
      "outputs": [
        {
          "output_type": "stream",
          "name": "stdout",
          "text": [
            "In sample: 0.9431818181818182\n",
            "Out of sample: 0.9824561403508771\n"
          ]
        }
      ]
    },
    {
      "cell_type": "code",
      "source": [],
      "metadata": {
        "id": "NvPMbkVjT_5I"
      },
      "execution_count": null,
      "outputs": []
    },
    {
      "cell_type": "code",
      "source": [
        "# med with 3 different classifications based on the distribution of the variables"
      ],
      "metadata": {
        "id": "AE7vs2C4T_3U"
      },
      "execution_count": null,
      "outputs": []
    },
    {
      "cell_type": "code",
      "source": [
        "pop_data['PopCategory'] = -100\n",
        "for i in range(len(pop_data)):\n",
        "  if ((pop_data['PopChange'][i] >= 0) & (pop_data['PopChange'][i] <= 1)):\n",
        "    pop_data['PopCategory'][i] = \"Small Increase\"\n",
        "  elif ((pop_data['PopChange'][i] > 1)):\n",
        "    pop_data['PopCategory'][i] = \"Large Increase\"\n",
        "  elif (pop_data['PopChange'][i] < 0):\n",
        "    pop_data['PopCategory'][i] = \"Decrease\""
      ],
      "metadata": {
        "colab": {
          "base_uri": "https://localhost:8080/"
        },
        "id": "tXV2a93PICWA",
        "outputId": "ca4b5113-5d8d-4ed4-a28c-621db01e2c21"
      },
      "execution_count": null,
      "outputs": [
        {
          "output_type": "stream",
          "name": "stderr",
          "text": [
            "/usr/local/lib/python3.7/dist-packages/ipykernel_launcher.py:4: SettingWithCopyWarning: \n",
            "A value is trying to be set on a copy of a slice from a DataFrame\n",
            "\n",
            "See the caveats in the documentation: https://pandas.pydata.org/pandas-docs/stable/user_guide/indexing.html#returning-a-view-versus-a-copy\n",
            "  after removing the cwd from sys.path.\n",
            "/usr/local/lib/python3.7/dist-packages/pandas/core/indexing.py:1732: SettingWithCopyWarning: \n",
            "A value is trying to be set on a copy of a slice from a DataFrame\n",
            "\n",
            "See the caveats in the documentation: https://pandas.pydata.org/pandas-docs/stable/user_guide/indexing.html#returning-a-view-versus-a-copy\n",
            "  self._setitem_single_block(indexer, value, name)\n"
          ]
        }
      ]
    },
    {
      "cell_type": "code",
      "source": [
        "income_data['incomeCategory'] = -100\n",
        "for i in range(len(income_data)):\n",
        "  if ((income_data['IncomeChange'][i] >= 0) & (income_data['IncomeChange'][i] <= 1)):\n",
        "    income_data['incomeCategory'][i] = \"Small Increase\"\n",
        "  elif ((income_data['IncomeChange'][i] > 1)):\n",
        "    income_data['incomeCategory'][i] = \"Large Increase\"\n",
        "  elif (income_data['IncomeChange'][i] < 0):\n",
        "    income_data['incomeCategory'][i] = \"Decrease\""
      ],
      "metadata": {
        "colab": {
          "base_uri": "https://localhost:8080/"
        },
        "id": "VFjY-iB5IDNT",
        "outputId": "189699c2-9cec-4e75-e256-ce16015d2851"
      },
      "execution_count": null,
      "outputs": [
        {
          "output_type": "stream",
          "name": "stderr",
          "text": [
            "/usr/local/lib/python3.7/dist-packages/ipykernel_launcher.py:4: SettingWithCopyWarning: \n",
            "A value is trying to be set on a copy of a slice from a DataFrame\n",
            "\n",
            "See the caveats in the documentation: https://pandas.pydata.org/pandas-docs/stable/user_guide/indexing.html#returning-a-view-versus-a-copy\n",
            "  after removing the cwd from sys.path.\n"
          ]
        }
      ]
    },
    {
      "cell_type": "code",
      "source": [
        "emp_data['empCategory'] = -100\n",
        "for i in range(len(emp_data)):\n",
        "  if ((emp_data['EmpChange'][i] >= 0) & (emp_data['EmpChange'][i] <= 1)):\n",
        "    emp_data['empCategory'][i] = \"Small Increase\"\n",
        "  elif ((emp_data['EmpChange'][i] > 1)):\n",
        "    emp_data['empCategory'][i] = \"Large Increase\"\n",
        "  elif (emp_data['EmpChange'][i] < 0):\n",
        "    emp_data['empCategory'][i] = \"Decrease\""
      ],
      "metadata": {
        "colab": {
          "base_uri": "https://localhost:8080/"
        },
        "id": "lkF-JfFoIDLg",
        "outputId": "f12622eb-5833-4708-aeeb-e4de336f1e07"
      },
      "execution_count": null,
      "outputs": [
        {
          "output_type": "stream",
          "name": "stderr",
          "text": [
            "/usr/local/lib/python3.7/dist-packages/ipykernel_launcher.py:4: SettingWithCopyWarning: \n",
            "A value is trying to be set on a copy of a slice from a DataFrame\n",
            "\n",
            "See the caveats in the documentation: https://pandas.pydata.org/pandas-docs/stable/user_guide/indexing.html#returning-a-view-versus-a-copy\n",
            "  after removing the cwd from sys.path.\n"
          ]
        }
      ]
    },
    {
      "cell_type": "code",
      "source": [
        "df_std = msa_data.merge(pop_data[['msaID','PopChange', 'PopCategory']], left_on='MSA',right_on='msaID').drop('msaID',axis=1)\n",
        "df_std2 = msa_data.merge(income_data[['msaID','IncomeChange', 'incomeCategory']], left_on='MSA',right_on='msaID').drop('msaID',axis=1)\n",
        "df_std3 = msa_data.merge(emp_data[['msaID','EmpChange', 'empCategory']], left_on='MSA',right_on='msaID').drop('msaID',axis=1)"
      ],
      "metadata": {
        "id": "eT3ZjFzTIDJ4"
      },
      "execution_count": null,
      "outputs": []
    },
    {
      "cell_type": "code",
      "source": [
        "df_std_train, df_std_test = train_test_split(df_std,random_state=999,test_size=0.3)\n",
        "df_std_train_X = df_std_train.loc[:, 'Agriculture':'Public_Administration']\n",
        "df_std_train_Y = df_std_train['PopCategory']\n",
        "df_std_test_X = df_std_test.loc[:, 'Agriculture':'Public_Administration']\n",
        "df_std_test_Y = df_std_test['PopCategory']\n",
        "\n",
        "df_std2_train, df_std2_test = train_test_split(df_std2,random_state=999,test_size=0.3)\n",
        "df_std2_train_X = df_std2_train.loc[:, 'Agriculture':'Public_Administration']\n",
        "df_std2_train_Y = df_std2_train['incomeCategory']\n",
        "df_std2_test_X = df_std2_test.loc[:, 'Agriculture':'Public_Administration']\n",
        "df_std2_test_Y = df_std2_test['incomeCategory']\n",
        "\n",
        "df_std3_train, df_std3_test = train_test_split(df_std3,random_state=999,test_size=0.3)\n",
        "df_std3_train_X = df_std3_train.loc[:, 'Agriculture':'Public_Administration']\n",
        "df_std3_train_Y = df_std3_train['empCategory']\n",
        "df_std3_test_X = df_std3_test.loc[:, 'Agriculture':'Public_Administration']\n",
        "df_std3_test_Y = df_std3_test['empCategory']"
      ],
      "metadata": {
        "id": "6shHL-pFIDH5"
      },
      "execution_count": null,
      "outputs": []
    },
    {
      "cell_type": "code",
      "source": [
        "param_grid = {'n_estimators':range(1,51,5),'max_leaf_nodes': range(2,10)}\n",
        "rf = RandomForestClassifier()\n",
        "gs = GridSearchCV(rf,param_grid=param_grid)\n",
        "rs = gs.fit(df_std_train_X,df_std_train_Y)\n",
        "print(rs.best_params_)"
      ],
      "metadata": {
        "colab": {
          "base_uri": "https://localhost:8080/"
        },
        "id": "BCazatroIDGM",
        "outputId": "cc1f413a-97a5-46eb-dfd0-0fb3715b8380"
      },
      "execution_count": null,
      "outputs": [
        {
          "output_type": "stream",
          "name": "stdout",
          "text": [
            "{'max_leaf_nodes': 9, 'n_estimators': 31}\n"
          ]
        }
      ]
    },
    {
      "cell_type": "code",
      "source": [
        "rf = RandomForestClassifier(n_estimators=rs.best_params_['n_estimators'],max_leaf_nodes=rs.best_params_['max_leaf_nodes'])\n",
        "rf.fit(df_std_train_X,df_std_train_Y)\n",
        "plt.barh(df_std_train_X.columns, rf.feature_importances_)"
      ],
      "metadata": {
        "colab": {
          "base_uri": "https://localhost:8080/",
          "height": 283
        },
        "id": "XJc7uphbIU1S",
        "outputId": "26245d94-ab19-40cb-f47c-68e523d55faf"
      },
      "execution_count": null,
      "outputs": [
        {
          "output_type": "execute_result",
          "data": {
            "text/plain": [
              "<BarContainer object of 20 artists>"
            ]
          },
          "metadata": {},
          "execution_count": 148
        },
        {
          "output_type": "display_data",
          "data": {
            "text/plain": [
              "<Figure size 432x288 with 1 Axes>"
            ],
            "image/png": "[encoded data removed]"
          },
          "metadata": {
            "needs_background": "light"
          }
        }
      ]
    },
    {
      "cell_type": "code",
      "source": [
        "predicted_train = rf.predict(df_std_train_X)\n",
        "print(\"In sample:\",(df_std_train_Y.reset_index(drop=True)==predicted_train).mean())\n",
        "\n",
        "predicted_test = rf.predict(df_std_test_X)\n",
        "print(\"Out of sample:\",(df_std_test_Y.reset_index(drop=True)==predicted_test).mean())"
      ],
      "metadata": {
        "colab": {
          "base_uri": "https://localhost:8080/"
        },
        "id": "Mxypcqx0IUzI",
        "outputId": "99b9b172-1953-4301-a408-0676e60e3541"
      },
      "execution_count": null,
      "outputs": [
        {
          "output_type": "stream",
          "name": "stdout",
          "text": [
            "In sample: 0.7137404580152672\n",
            "Out of sample: 0.5221238938053098\n"
          ]
        }
      ]
    },
    {
      "cell_type": "code",
      "source": [
        "param_grid = {'n_estimators':range(1,51,5),'max_leaf_nodes': range(2,10)}\n",
        "rf = RandomForestClassifier()\n",
        "gs = GridSearchCV(rf,param_grid=param_grid)\n",
        "rs = gs.fit(df_std2_train_X,df_std2_train_Y)\n",
        "print(rs.best_params_)"
      ],
      "metadata": {
        "colab": {
          "base_uri": "https://localhost:8080/"
        },
        "id": "h3Kn1kP4IUwy",
        "outputId": "d835d1de-0ce7-480a-9299-0c2d09a26e02"
      },
      "execution_count": null,
      "outputs": [
        {
          "output_type": "stream",
          "name": "stdout",
          "text": [
            "{'max_leaf_nodes': 7, 'n_estimators': 6}\n"
          ]
        }
      ]
    },
    {
      "cell_type": "code",
      "source": [
        "rf = RandomForestClassifier(n_estimators=rs.best_params_['n_estimators'],max_leaf_nodes=rs.best_params_['max_leaf_nodes'])\n",
        "rf.fit(df_std2_train_X,df_std2_train_Y)\n",
        "rf.fit(df_std_train_X,df_std_train_Y)\n",
        "plt.barh(df_std_train_X.columns, rf.feature_importances_)"
      ],
      "metadata": {
        "colab": {
          "base_uri": "https://localhost:8080/",
          "height": 283
        },
        "id": "xoOgJfGSIUum",
        "outputId": "951e2966-d6bf-4240-8813-5b24f004381f"
      },
      "execution_count": null,
      "outputs": [
        {
          "output_type": "execute_result",
          "data": {
            "text/plain": [
              "<BarContainer object of 20 artists>"
            ]
          },
          "metadata": {},
          "execution_count": 151
        },
        {
          "output_type": "display_data",
          "data": {
            "text/plain": [
              "<Figure size 432x288 with 1 Axes>"
            ],
            "image/png": "[encoded data removed]"
          },
          "metadata": {
            "needs_background": "light"
          }
        }
      ]
    },
    {
      "cell_type": "code",
      "source": [
        "predicted_train = rf.predict(df_std2_train_X)\n",
        "print(\"In sample:\",(df_std2_train_Y.reset_index(drop=True)==predicted_train).mean())\n",
        "\n",
        "predicted_test = rf.predict(df_std2_test_X)\n",
        "print(\"Out of sample:\",(df_std2_test_Y.reset_index(drop=True)==predicted_test).mean())"
      ],
      "metadata": {
        "colab": {
          "base_uri": "https://localhost:8080/"
        },
        "id": "6N2N9FqOIUsh",
        "outputId": "117fd7c3-d0b9-40ae-c873-a93f897bb0b9"
      },
      "execution_count": null,
      "outputs": [
        {
          "output_type": "stream",
          "name": "stdout",
          "text": [
            "In sample: 0.38549618320610685\n",
            "Out of sample: 0.3274336283185841\n"
          ]
        }
      ]
    },
    {
      "cell_type": "code",
      "source": [
        "param_grid = {'n_estimators':range(1,51,5),'max_leaf_nodes': range(2,10)}\n",
        "rf = RandomForestClassifier()\n",
        "gs = GridSearchCV(rf,param_grid=param_grid)\n",
        "rs = gs.fit(df_std3_train_X,df_std3_train_Y)\n",
        "print(rs.best_params_)"
      ],
      "metadata": {
        "colab": {
          "base_uri": "https://localhost:8080/"
        },
        "id": "R53TQ7-7IUqf",
        "outputId": "857f2d5e-f184-4303-e70f-56a01354c94f"
      },
      "execution_count": null,
      "outputs": [
        {
          "output_type": "stream",
          "name": "stdout",
          "text": [
            "{'max_leaf_nodes': 6, 'n_estimators': 31}\n"
          ]
        }
      ]
    },
    {
      "cell_type": "code",
      "source": [
        "rf = RandomForestClassifier(n_estimators=rs.best_params_['n_estimators'],max_leaf_nodes=rs.best_params_['max_leaf_nodes'])\n",
        "rf.fit(df_std3_train_X,df_std3_train_Y)\n",
        "rf.fit(df_std_train_X,df_std_train_Y)\n",
        "plt.barh(df_std_train_X.columns, rf.feature_importances_)"
      ],
      "metadata": {
        "colab": {
          "base_uri": "https://localhost:8080/",
          "height": 283
        },
        "id": "QZ_SoXFaIUoZ",
        "outputId": "3c23f517-c613-412d-bcb9-e4d2be6ed317"
      },
      "execution_count": null,
      "outputs": [
        {
          "output_type": "execute_result",
          "data": {
            "text/plain": [
              "<BarContainer object of 20 artists>"
            ]
          },
          "metadata": {},
          "execution_count": 154
        },
        {
          "output_type": "display_data",
          "data": {
            "text/plain": [
              "<Figure size 432x288 with 1 Axes>"
            ],
            "image/png": "[encoded data removed]"
          },
          "metadata": {
            "needs_background": "light"
          }
        }
      ]
    },
    {
      "cell_type": "code",
      "source": [
        "predicted_train = rf.predict(df_std3_train_X)\n",
        "print(\"In sample:\",(df_std3_train_Y.reset_index(drop=True)==predicted_train).mean())\n",
        "\n",
        "predicted_test = rf.predict(df_std3_test_X)\n",
        "print(\"Out of sample:\",(df_std3_test_Y.reset_index(drop=True)==predicted_test).mean())"
      ],
      "metadata": {
        "colab": {
          "base_uri": "https://localhost:8080/"
        },
        "id": "uWfErVGhIUmU",
        "outputId": "1db2f9b9-c885-4c21-f276-09c1ac3e2704"
      },
      "execution_count": null,
      "outputs": [
        {
          "output_type": "stream",
          "name": "stdout",
          "text": [
            "In sample: 0.3939393939393939\n",
            "Out of sample: 0.30701754385964913\n"
          ]
        }
      ]
    },
    {
      "cell_type": "code",
      "source": [],
      "metadata": {
        "id": "XQNuPbd_IUiJ"
      },
      "execution_count": null,
      "outputs": []
    },
    {
      "cell_type": "code",
      "source": [],
      "metadata": {
        "id": "tA2JxLrOIUgG"
      },
      "execution_count": null,
      "outputs": []
    },
    {
      "cell_type": "code",
      "source": [],
      "metadata": {
        "id": "Og51P_6pIUds"
      },
      "execution_count": null,
      "outputs": []
    },
    {
      "cell_type": "code",
      "source": [],
      "metadata": {
        "id": "Stc1Gaq9T9oc"
      },
      "execution_count": null,
      "outputs": []
    },
    {
      "cell_type": "code",
      "source": [],
      "metadata": {
        "id": "ev_iuS7mT9mi"
      },
      "execution_count": null,
      "outputs": []
    },
    {
      "cell_type": "code",
      "source": [],
      "metadata": {
        "id": "QGzN9JD0T9ka"
      },
      "execution_count": null,
      "outputs": []
    },
    {
      "cell_type": "code",
      "source": [],
      "metadata": {
        "id": "fG6VK6LET9iD"
      },
      "execution_count": null,
      "outputs": []
    },
    {
      "cell_type": "code",
      "source": [],
      "metadata": {
        "id": "L2t85HN8T9gW"
      },
      "execution_count": null,
      "outputs": []
    },
    {
      "cell_type": "code",
      "source": [],
      "metadata": {
        "id": "uqj3k4XVT9d_"
      },
      "execution_count": null,
      "outputs": []
    },
    {
      "cell_type": "code",
      "source": [],
      "metadata": {
        "id": "iGOiSGJkT9cH"
      },
      "execution_count": null,
      "outputs": []
    }
  ]
}