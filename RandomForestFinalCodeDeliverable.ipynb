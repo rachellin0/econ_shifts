{
  "nbformat": 4,
  "nbformat_minor": 0,
  "metadata": {
    "colab": {
      "provenance": []
    },
    "kernelspec": {
      "name": "python3",
      "display_name": "Python 3"
    },
    "language_info": {
      "name": "python"
    }
  },
  "cells": [
    {
      "cell_type": "code",
      "source": [
        "from google.colab import drive\n",
        "drive.mount('/content/drive')"
      ],
      "metadata": {
        "colab": {
          "base_uri": "https://localhost:8080/"
        },
        "id": "oA7be1_g8l4o",
        "outputId": "bd7588d1-8945-4c44-8231-6a24d9551dfb"
      },
      "execution_count": null,
      "outputs": [
        {
          "output_type": "stream",
          "name": "stdout",
          "text": [
            "Drive already mounted at /content/drive; to attempt to forcibly remount, call drive.mount(\"/content/drive\", force_remount=True).\n"
          ]
        }
      ]
    },
    {
      "cell_type": "code",
      "source": [
        "import numpy as np\n",
        "import pandas as pd\n",
        "from sklearn import svm, metrics\n",
        "import matplotlib.pyplot as plt\n",
        "from sklearn.model_selection import train_test_split\n",
        "from sklearn.ensemble import RandomForestRegressor\n",
        "from sklearn.ensemble import RandomForestClassifier\n",
        "from sklearn.model_selection import GridSearchCV"
      ],
      "metadata": {
        "id": "rLy2t0HJ8m9g"
      },
      "execution_count": null,
      "outputs": []
    },
    {
      "cell_type": "code",
      "source": [
        "#Load Data\n",
        "msa_data = pd.read_csv('/content/drive/MyDrive/MLC Final Project/4_MSA_LQ.csv')\n",
        "pop_data = pd.read_csv('/content/drive/MyDrive/MLC Final Project/1_PopChange_10_16.csv')\n",
        "income_data = pd.read_csv('/content/drive/MyDrive/MLC Final Project/2_Income_Incr_10_16.csv')\n",
        "emp_data = pd.read_csv('/content/drive/MyDrive/MLC Final Project/3_Emp_Incr_10_16.csv')"
      ],
      "metadata": {
        "id": "NZc0WmKG9lqI"
      },
      "execution_count": null,
      "outputs": []
    },
    {
      "cell_type": "code",
      "source": [
        "#Classify Data\n",
        "pop_data['PopCategory'] = -100\n",
        "for i in range(len(pop_data)):\n",
        "  if ((pop_data['PopChange'][i] >= 0) & (pop_data['PopChange'][i] <= 1)):\n",
        "    pop_data['PopCategory'][i] = \"Small Increase\"\n",
        "  elif ((pop_data['PopChange'][i] > 1)):\n",
        "    pop_data['PopCategory'][i] = \"Large Increase\"\n",
        "  elif (pop_data['PopChange'][i] < 0):\n",
        "    pop_data['PopCategory'][i] = \"Decrease\""
      ],
      "metadata": {
        "colab": {
          "base_uri": "https://localhost:8080/"
        },
        "id": "tXV2a93PICWA",
        "outputId": "ec0282f1-b726-4182-a6b5-f5679e84e6ea"
      },
      "execution_count": null,
      "outputs": [
        {
          "output_type": "stream",
          "name": "stderr",
          "text": [
            "/usr/local/lib/python3.7/dist-packages/ipykernel_launcher.py:5: SettingWithCopyWarning: \n",
            "A value is trying to be set on a copy of a slice from a DataFrame\n",
            "\n",
            "See the caveats in the documentation: https://pandas.pydata.org/pandas-docs/stable/user_guide/indexing.html#returning-a-view-versus-a-copy\n",
            "  \"\"\"\n",
            "/usr/local/lib/python3.7/dist-packages/pandas/core/indexing.py:1732: SettingWithCopyWarning: \n",
            "A value is trying to be set on a copy of a slice from a DataFrame\n",
            "\n",
            "See the caveats in the documentation: https://pandas.pydata.org/pandas-docs/stable/user_guide/indexing.html#returning-a-view-versus-a-copy\n",
            "  self._setitem_single_block(indexer, value, name)\n"
          ]
        }
      ]
    },
    {
      "cell_type": "code",
      "source": [
        "income_data['incomeCategory'] = -100\n",
        "for i in range(len(income_data)):\n",
        "  if ((income_data['IncomeChange'][i] >= 0) & (income_data['IncomeChange'][i] <= 1)):\n",
        "    income_data['incomeCategory'][i] = \"Small Increase\"\n",
        "  elif ((income_data['IncomeChange'][i] > 1)):\n",
        "    income_data['incomeCategory'][i] = \"Large Increase\"\n",
        "  elif (income_data['IncomeChange'][i] < 0):\n",
        "    income_data['incomeCategory'][i] = \"Decrease\""
      ],
      "metadata": {
        "colab": {
          "base_uri": "https://localhost:8080/"
        },
        "id": "VFjY-iB5IDNT",
        "outputId": "962f6020-4a9b-4e14-cbfd-aefc6b4d20dd"
      },
      "execution_count": null,
      "outputs": [
        {
          "output_type": "stream",
          "name": "stderr",
          "text": [
            "/usr/local/lib/python3.7/dist-packages/ipykernel_launcher.py:4: SettingWithCopyWarning: \n",
            "A value is trying to be set on a copy of a slice from a DataFrame\n",
            "\n",
            "See the caveats in the documentation: https://pandas.pydata.org/pandas-docs/stable/user_guide/indexing.html#returning-a-view-versus-a-copy\n",
            "  after removing the cwd from sys.path.\n"
          ]
        }
      ]
    },
    {
      "cell_type": "code",
      "source": [
        "emp_data['empCategory'] = -100\n",
        "for i in range(len(emp_data)):\n",
        "  if ((emp_data['EmpChange'][i] >= 0) & (emp_data['EmpChange'][i] <= 1)):\n",
        "    emp_data['empCategory'][i] = \"Small Increase\"\n",
        "  elif ((emp_data['EmpChange'][i] > 1)):\n",
        "    emp_data['empCategory'][i] = \"Large Increase\"\n",
        "  elif (emp_data['EmpChange'][i] < 0):\n",
        "    emp_data['empCategory'][i] = \"Decrease\""
      ],
      "metadata": {
        "colab": {
          "base_uri": "https://localhost:8080/"
        },
        "id": "lkF-JfFoIDLg",
        "outputId": "b9d265a6-2593-4ede-d6d0-87488c26053a"
      },
      "execution_count": null,
      "outputs": [
        {
          "output_type": "stream",
          "name": "stderr",
          "text": [
            "/usr/local/lib/python3.7/dist-packages/ipykernel_launcher.py:4: SettingWithCopyWarning: \n",
            "A value is trying to be set on a copy of a slice from a DataFrame\n",
            "\n",
            "See the caveats in the documentation: https://pandas.pydata.org/pandas-docs/stable/user_guide/indexing.html#returning-a-view-versus-a-copy\n",
            "  after removing the cwd from sys.path.\n"
          ]
        }
      ]
    },
    {
      "cell_type": "code",
      "source": [
        "for column in msa_data.columns:\n",
        "  if column != 'MSA' and column != 'PopChange':\n",
        "    msa_data[column] = msa_data[column]>=msa_data[column].median()"
      ],
      "metadata": {
        "id": "lKsJaOmdkWje"
      },
      "execution_count": null,
      "outputs": []
    },
    {
      "cell_type": "code",
      "source": [
        "df_std = msa_data.merge(pop_data[['msaID','PopChange', 'PopCategory']], left_on='MSA',right_on='msaID').drop('msaID',axis=1)\n",
        "df_std2 = msa_data.merge(income_data[['msaID','IncomeChange', 'incomeCategory']], left_on='MSA',right_on='msaID').drop('msaID',axis=1)\n",
        "df_std3 = msa_data.merge(emp_data[['msaID','EmpChange', 'empCategory']], left_on='MSA',right_on='msaID').drop('msaID',axis=1)"
      ],
      "metadata": {
        "id": "eT3ZjFzTIDJ4"
      },
      "execution_count": null,
      "outputs": []
    },
    {
      "cell_type": "code",
      "source": [
        "df_std_train, df_std_test = train_test_split(df_std,random_state=999,test_size=0.3)\n",
        "df_std_train_X = df_std_train.loc[:, 'Agriculture':'Public_Administration']\n",
        "df_std_train_Y = df_std_train['PopCategory']\n",
        "df_std_test_X = df_std_test.loc[:, 'Agriculture':'Public_Administration']\n",
        "df_std_test_Y = df_std_test['PopCategory']\n",
        "\n",
        "df_std2_train, df_std2_test = train_test_split(df_std2,random_state=999,test_size=0.3)\n",
        "df_std2_train_X = df_std2_train.loc[:, 'Agriculture':'Public_Administration']\n",
        "df_std2_train_Y = df_std2_train['incomeCategory']\n",
        "df_std2_test_X = df_std2_test.loc[:, 'Agriculture':'Public_Administration']\n",
        "df_std2_test_Y = df_std2_test['incomeCategory']\n",
        "\n",
        "df_std3_train, df_std3_test = train_test_split(df_std3,random_state=999,test_size=0.3)\n",
        "df_std3_train_X = df_std3_train.loc[:, 'Agriculture':'Public_Administration']\n",
        "df_std3_train_Y = df_std3_train['empCategory']\n",
        "df_std3_test_X = df_std3_test.loc[:, 'Agriculture':'Public_Administration']\n",
        "df_std3_test_Y = df_std3_test['empCategory']"
      ],
      "metadata": {
        "id": "6shHL-pFIDH5"
      },
      "execution_count": null,
      "outputs": []
    },
    {
      "cell_type": "markdown",
      "source": [
        "#Population"
      ],
      "metadata": {
        "id": "RyPBE0QejtAo"
      }
    },
    {
      "cell_type": "code",
      "source": [
        "param_grid = {'n_estimators':range(1,51,5),'max_leaf_nodes': range(2,10)}\n",
        "rf = RandomForestClassifier()\n",
        "gs = GridSearchCV(rf,param_grid=param_grid)\n",
        "rs = gs.fit(df_std_train_X,df_std_train_Y)\n",
        "print(rs.best_params_)"
      ],
      "metadata": {
        "colab": {
          "base_uri": "https://localhost:8080/"
        },
        "id": "BCazatroIDGM",
        "outputId": "7ff9e778-c479-4e1c-c1e4-3f5af39dbdeb"
      },
      "execution_count": null,
      "outputs": [
        {
          "output_type": "stream",
          "name": "stdout",
          "text": [
            "{'max_leaf_nodes': 6, 'n_estimators': 41}\n"
          ]
        }
      ]
    },
    {
      "cell_type": "code",
      "source": [
        "rf = RandomForestClassifier(n_estimators=rs.best_params_['n_estimators'],max_leaf_nodes=rs.best_params_['max_leaf_nodes'], random_state = 999)\n",
        "rf.fit(df_std_train_X,df_std_train_Y)\n",
        "plt.barh(df_std_train_X.columns, rf.feature_importances_)"
      ],
      "metadata": {
        "colab": {
          "base_uri": "https://localhost:8080/",
          "height": 283
        },
        "id": "XJc7uphbIU1S",
        "outputId": "98959d31-1a02-4eef-9eaf-5c40277504b9"
      },
      "execution_count": null,
      "outputs": [
        {
          "output_type": "execute_result",
          "data": {
            "text/plain": [
              "<BarContainer object of 20 artists>"
            ]
          },
          "metadata": {},
          "execution_count": 46
        },
        {
          "output_type": "display_data",
          "data": {
            "text/plain": [
              "<Figure size 432x288 with 1 Axes>"
            ],
            "image/png": "[encoded data removed]"
          },
          "metadata": {
            "needs_background": "light"
          }
        }
      ]
    },
    {
      "cell_type": "code",
      "source": [
        "predicted_train = rf.predict(df_std_train_X)\n",
        "print(\"In sample:\",(df_std_train_Y.reset_index(drop=True)==predicted_train).mean())\n",
        "\n",
        "predicted_test = rf.predict(df_std_test_X)\n",
        "print(\"Out of sample:\",(df_std_test_Y.reset_index(drop=True)==predicted_test).mean())"
      ],
      "metadata": {
        "colab": {
          "base_uri": "https://localhost:8080/"
        },
        "id": "Mxypcqx0IUzI",
        "outputId": "d0ccf912-9c01-407c-9593-784cafc78074"
      },
      "execution_count": null,
      "outputs": [
        {
          "output_type": "stream",
          "name": "stdout",
          "text": [
            "In sample: 0.6984732824427481\n",
            "Out of sample: 0.5309734513274337\n"
          ]
        }
      ]
    },
    {
      "cell_type": "markdown",
      "source": [
        "#Income"
      ],
      "metadata": {
        "id": "jpUmR2KOj4Fw"
      }
    },
    {
      "cell_type": "code",
      "source": [
        "param_grid = {'n_estimators':range(1,51,5),'max_leaf_nodes': range(2,10)}\n",
        "rf = RandomForestClassifier()\n",
        "gs = GridSearchCV(rf,param_grid=param_grid)\n",
        "rs = gs.fit(df_std2_train_X,df_std2_train_Y)\n",
        "print(rs.best_params_)"
      ],
      "metadata": {
        "colab": {
          "base_uri": "https://localhost:8080/"
        },
        "id": "h3Kn1kP4IUwy",
        "outputId": "c8385fb5-392d-4eba-d7a3-252e9a24f152"
      },
      "execution_count": null,
      "outputs": [
        {
          "output_type": "stream",
          "name": "stdout",
          "text": [
            "{'max_leaf_nodes': 8, 'n_estimators': 31}\n"
          ]
        }
      ]
    },
    {
      "cell_type": "code",
      "source": [
        "rf = RandomForestClassifier(n_estimators=rs.best_params_['n_estimators'],max_leaf_nodes=rs.best_params_['max_leaf_nodes'], random_state = 999)\n",
        "rf.fit(df_std2_train_X,df_std2_train_Y)\n",
        "rf.fit(df_std_train_X,df_std_train_Y)\n",
        "plt.barh(df_std_train_X.columns, rf.feature_importances_)"
      ],
      "metadata": {
        "colab": {
          "base_uri": "https://localhost:8080/",
          "height": 283
        },
        "id": "xoOgJfGSIUum",
        "outputId": "9a9e5895-806c-407e-bbc9-b6a8da6af3cb"
      },
      "execution_count": null,
      "outputs": [
        {
          "output_type": "execute_result",
          "data": {
            "text/plain": [
              "<BarContainer object of 20 artists>"
            ]
          },
          "metadata": {},
          "execution_count": 49
        },
        {
          "output_type": "display_data",
          "data": {
            "text/plain": [
              "<Figure size 432x288 with 1 Axes>"
            ],
            "image/png": "[encoded data removed]"
          },
          "metadata": {
            "needs_background": "light"
          }
        }
      ]
    },
    {
      "cell_type": "code",
      "source": [
        "predicted_train = rf.predict(df_std2_train_X)\n",
        "print(\"In sample:\",(df_std2_train_Y.reset_index(drop=True)==predicted_train).mean())\n",
        "\n",
        "predicted_test = rf.predict(df_std2_test_X)\n",
        "print(\"Out of sample:\",(df_std2_test_Y.reset_index(drop=True)==predicted_test).mean())"
      ],
      "metadata": {
        "colab": {
          "base_uri": "https://localhost:8080/"
        },
        "id": "6N2N9FqOIUsh",
        "outputId": "1c4a1a39-b981-4f3a-af57-90033c39743b"
      },
      "execution_count": null,
      "outputs": [
        {
          "output_type": "stream",
          "name": "stdout",
          "text": [
            "In sample: 0.4122137404580153\n",
            "Out of sample: 0.40707964601769914\n"
          ]
        }
      ]
    },
    {
      "cell_type": "markdown",
      "source": [
        "#Employement"
      ],
      "metadata": {
        "id": "hhZt7Mt_j-qT"
      }
    },
    {
      "cell_type": "code",
      "source": [
        "param_grid = {'n_estimators':range(1,51,5),'max_leaf_nodes': range(2,10)}\n",
        "rf = RandomForestClassifier()\n",
        "gs = GridSearchCV(rf,param_grid=param_grid)\n",
        "rs = gs.fit(df_std3_train_X,df_std3_train_Y)\n",
        "print(rs.best_params_)"
      ],
      "metadata": {
        "colab": {
          "base_uri": "https://localhost:8080/"
        },
        "id": "R53TQ7-7IUqf",
        "outputId": "09bd761d-7295-48c8-ec43-a7ec6600d438"
      },
      "execution_count": null,
      "outputs": [
        {
          "output_type": "stream",
          "name": "stdout",
          "text": [
            "{'max_leaf_nodes': 8, 'n_estimators': 21}\n"
          ]
        }
      ]
    },
    {
      "cell_type": "code",
      "source": [
        "rf = RandomForestClassifier(n_estimators=rs.best_params_['n_estimators'],max_leaf_nodes=rs.best_params_['max_leaf_nodes'], random_state = 999)\n",
        "rf.fit(df_std3_train_X,df_std3_train_Y)\n",
        "rf.fit(df_std_train_X,df_std_train_Y)\n",
        "plt.barh(df_std_train_X.columns, rf.feature_importances_)"
      ],
      "metadata": {
        "colab": {
          "base_uri": "https://localhost:8080/",
          "height": 283
        },
        "id": "QZ_SoXFaIUoZ",
        "outputId": "a3a4ded6-530c-44aa-c82b-e2e0c9b52a74"
      },
      "execution_count": null,
      "outputs": [
        {
          "output_type": "execute_result",
          "data": {
            "text/plain": [
              "<BarContainer object of 20 artists>"
            ]
          },
          "metadata": {},
          "execution_count": 52
        },
        {
          "output_type": "display_data",
          "data": {
            "text/plain": [
              "<Figure size 432x288 with 1 Axes>"
            ],
            "image/png": "[encoded data removed]"
          },
          "metadata": {
            "needs_background": "light"
          }
        }
      ]
    },
    {
      "cell_type": "code",
      "source": [
        "predicted_train = rf.predict(df_std3_train_X)\n",
        "print(\"In sample:\",(df_std3_train_Y.reset_index(drop=True)==predicted_train).mean())\n",
        "\n",
        "predicted_test = rf.predict(df_std3_test_X)\n",
        "print(\"Out of sample:\",(df_std3_test_Y.reset_index(drop=True)==predicted_test).mean())"
      ],
      "metadata": {
        "colab": {
          "base_uri": "https://localhost:8080/"
        },
        "id": "uWfErVGhIUmU",
        "outputId": "8488c718-180e-4baa-e265-8d1872211318"
      },
      "execution_count": null,
      "outputs": [
        {
          "output_type": "stream",
          "name": "stdout",
          "text": [
            "In sample: 0.4015151515151515\n",
            "Out of sample: 0.37719298245614036\n"
          ]
        }
      ]
    },
    {
      "cell_type": "code",
      "source": [],
      "metadata": {
        "id": "XQNuPbd_IUiJ"
      },
      "execution_count": null,
      "outputs": []
    },
    {
      "cell_type": "code",
      "source": [],
      "metadata": {
        "id": "zdVGlDYUjSyd"
      },
      "execution_count": null,
      "outputs": []
    },
    {
      "cell_type": "code",
      "source": [],
      "metadata": {
        "id": "Og51P_6pIUds"
      },
      "execution_count": null,
      "outputs": []
    },
    {
      "cell_type": "code",
      "source": [],
      "metadata": {
        "id": "UMD6d6lZIUbj"
      },
      "execution_count": null,
      "outputs": []
    }
  ]
}